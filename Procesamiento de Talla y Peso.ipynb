{
 "cells": [
  {
   "cell_type": "code",
   "execution_count": 1669,
   "metadata": {},
   "outputs": [],
   "source": [
    "import pandas as pd\n",
    "import numpy as np\n",
    "import datetime"
   ]
  },
  {
   "cell_type": "code",
   "execution_count": 1692,
   "metadata": {},
   "outputs": [
    {
     "name": "stderr",
     "output_type": "stream",
     "text": [
      "C:\\Users\\jcastro.CNCCOL\\AppData\\Local\\Continuum\\anaconda3\\lib\\site-packages\\IPython\\core\\interactiveshell.py:3020: DtypeWarning: Columns (3,5,6,10,11,17,24,26,54,67,106,114,122,131,144,146,161,164,165) have mixed types. Specify dtype option on import or set low_memory=False.\n",
      "  interactivity=interactivity, compiler=compiler, result=result)\n"
     ]
    }
   ],
   "source": [
    "base_sistema = pd.read_csv(\"BASE_SDE_TP_29102019.csv\", error_bad_lines=False, sep =\";\")"
   ]
  },
  {
   "cell_type": "code",
   "execution_count": 1671,
   "metadata": {},
   "outputs": [],
   "source": [
    "base_muestra= pd.read_excel(\"Muestra Alumnos.xlsx\")"
   ]
  },
  {
   "cell_type": "code",
   "execution_count": 1672,
   "metadata": {},
   "outputs": [
    {
     "data": {
      "text/plain": [
       "Index(['NUMEROLOCALIDAD', 'NOMBRELOCALIDAD', 'CLASE', 'DANE12',\n",
       "       'NOMBREESTABLECIMIENTOEDUCATIVO', 'CONSECUTIVOSEDE', 'SEDEEDUCATIVA',\n",
       "       'NOMBRESEDEEDUCATIVA', 'DIRECCIÓNSEDEEDUCATIVA', 'TIPODOCUMENTO',\n",
       "       'Expr1010', 'TIPODOCUMENTODESCRIPCION', 'NUMERODOCUMENTO', 'APELLIDO1',\n",
       "       'APELLIDO2', 'NOMBRE1', 'NOMBRE2', 'DIRECCIONRESIDENCIA', 'ESTRATO',\n",
       "       'SISBEN', 'FECHANACIMIENTO', 'GENERO', 'POB_VICT_CONF',\n",
       "       'POB_VICT_CONFDESCRIPCION', 'Expr1024', 'PROVIENE_SECTOR_PRIV',\n",
       "       'PROVIENE_OTR_MUN', 'TIPODISCAPACIDADDESCRIPCION', 'ETNIA',\n",
       "       'DESCRIPCIONETNIA', 'RES', 'TIPOJORNADA', 'JORNADAEDUCATIVA', 'GRADO',\n",
       "       'GRUPO', 'MATRICULACONTRATADA', 'REPITENTE', 'NUEVO', 'ZON_ALU',\n",
       "       'CAB_FAMILIA', 'Expr1040', 'BEN_MAD_FLIA', 'PER_ID', 'PAIS_ORIGEN',\n",
       "       'PAIS_ORIGEN_A', 'Llave'],\n",
       "      dtype='object')"
      ]
     },
     "execution_count": 1672,
     "metadata": {},
     "output_type": "execute_result"
    }
   ],
   "source": [
    "base_muestra.columns"
   ]
  },
  {
   "cell_type": "code",
   "execution_count": 1693,
   "metadata": {},
   "outputs": [],
   "source": [
    "base_sistema[\"PER_ID\"]= pd.to_numeric(base_sistema['PER_ID'], errors = 'raise')"
   ]
  },
  {
   "cell_type": "code",
   "execution_count": 1694,
   "metadata": {},
   "outputs": [],
   "source": [
    "base_muestra[\"PER_ID\"]= pd.to_numeric(base_muestra['PER_ID'], errors = 'raise')"
   ]
  },
  {
   "cell_type": "code",
   "execution_count": null,
   "metadata": {},
   "outputs": [],
   "source": [
    "base_colegios = base_sistema.merge(base_muestra, left_on=\"PER_ID\", right_on= 'PER_ID', how= 'left' ) "
   ]
  },
  {
   "cell_type": "code",
   "execution_count": null,
   "metadata": {},
   "outputs": [],
   "source": [
    "len(base_colegios)"
   ]
  },
  {
   "cell_type": "code",
   "execution_count": null,
   "metadata": {},
   "outputs": [],
   "source": [
    "len(base_sistema)"
   ]
  },
  {
   "cell_type": "code",
   "execution_count": null,
   "metadata": {},
   "outputs": [],
   "source": [
    "reportado = pd.get_dummies(base_colegios['reportado'])\n",
    "base_colegios = pd.concat([base_colegios, reportado], axis=1)"
   ]
  },
  {
   "cell_type": "code",
   "execution_count": null,
   "metadata": {},
   "outputs": [],
   "source": [
    "def convert_fecha(x):\n",
    "    if x != '0000-00-00 00:00:00':\n",
    "        try:\n",
    "            date_time_obj = datetime.datetime.strptime(x, '%d/%m/%Y %H:%M')\n",
    "            return date_time_obj\n",
    "        except TypeError:\n",
    "            return x        \n",
    "    else:\n",
    "        return datetime.datetime(2019, 8, 29)  \n",
    "base_colegios['fecha_realizacion'] = base_colegios['fecha_realizacion'].map(convert_fecha)"
   ]
  },
  {
   "cell_type": "code",
   "execution_count": null,
   "metadata": {},
   "outputs": [],
   "source": [
    "def tomar_solo_fechas(x):\n",
    "    if x is not np.nan:\n",
    "        a = x.date()\n",
    "        return a\n",
    "    else:\n",
    "        x\n",
    "\n",
    "base_colegios['fecha_realizacion_2'] = base_colegios['fecha_realizacion'].map(tomar_solo_fechas)"
   ]
  },
  {
   "cell_type": "code",
   "execution_count": null,
   "metadata": {},
   "outputs": [],
   "source": [
    "base_colegios.drop_duplicates(subset =[\"PER_ID\", 'fecha_realizacion_2' ], \n",
    "                     keep = 'first', inplace = True) "
   ]
  },
  {
   "cell_type": "code",
   "execution_count": null,
   "metadata": {},
   "outputs": [],
   "source": [
    "base_colegios = base_colegios[['PER_ID', 'CONSECUTIVOSEDE', 'NOMBREESTABLECIMIENTOEDUCATIVO', 'NOMBRESEDEEDUCATIVA', 1.0,  2.0,\n",
    "                                    3.0, 4.0, 'fecha_realizacion', 'fecha_realizacion_2' ]]"
   ]
  },
  {
   "cell_type": "code",
   "execution_count": null,
   "metadata": {},
   "outputs": [],
   "source": [
    "#def fechas_a_string(x):\n",
    "#    if x is not pd.NaT:\n",
    "#        a = x.strftime('%Y/%m/%d')\n",
    "#        return a\n",
    "#    else:\n",
    "#        x\n",
    "\n",
    "#base_colegios['fecha_realizacion_2'] = base_colegios['fecha_realizacion_2'].map(fechas_a_string)"
   ]
  },
  {
   "cell_type": "code",
   "execution_count": null,
   "metadata": {},
   "outputs": [],
   "source": [
    "#base_colegios.to_excel('Tabla colegio 29-10-2019.xlsx')"
   ]
  },
  {
   "cell_type": "code",
   "execution_count": null,
   "metadata": {},
   "outputs": [],
   "source": [
    "#base_colegios = pd.read_excel('Tabla colegio 25-10-2019.xlsx')"
   ]
  },
  {
   "cell_type": "code",
   "execution_count": null,
   "metadata": {},
   "outputs": [],
   "source": [
    "#base_colegios.head()"
   ]
  },
  {
   "cell_type": "code",
   "execution_count": null,
   "metadata": {},
   "outputs": [],
   "source": [
    "#type(base_colegios.fecha_realizacion_2 [0])"
   ]
  },
  {
   "cell_type": "code",
   "execution_count": null,
   "metadata": {},
   "outputs": [],
   "source": [
    "#base_colegios['fecha_realizacion_2'][0]"
   ]
  },
  {
   "cell_type": "code",
   "execution_count": null,
   "metadata": {},
   "outputs": [],
   "source": [
    "#base_colegios=base_colegios.drop(columns=['PER_ID'])\n",
    "#base_colegios.head(1)"
   ]
  },
  {
   "cell_type": "code",
   "execution_count": null,
   "metadata": {},
   "outputs": [],
   "source": [
    "#base_colegios2= base_colegios.groupby([\"CONSECUTIVOSEDE\", 'fecha_realizacion_2']).sum()"
   ]
  },
  {
   "cell_type": "code",
   "execution_count": null,
   "metadata": {},
   "outputs": [],
   "source": [
    "#base_colegios2"
   ]
  },
  {
   "cell_type": "markdown",
   "metadata": {},
   "source": [
    "# Eliminar encuestas duplicadas - se deja la última"
   ]
  },
  {
   "cell_type": "code",
   "execution_count": 1695,
   "metadata": {},
   "outputs": [
    {
     "data": {
      "text/html": [
       "<div>\n",
       "<style scoped>\n",
       "    .dataframe tbody tr th:only-of-type {\n",
       "        vertical-align: middle;\n",
       "    }\n",
       "\n",
       "    .dataframe tbody tr th {\n",
       "        vertical-align: top;\n",
       "    }\n",
       "\n",
       "    .dataframe thead th {\n",
       "        text-align: right;\n",
       "    }\n",
       "</style>\n",
       "<table border=\"1\" class=\"dataframe\">\n",
       "  <thead>\n",
       "    <tr style=\"text-align: right;\">\n",
       "      <th></th>\n",
       "      <th>DANE_ANTERIOR</th>\n",
       "      <th>TIPO_JORNADA</th>\n",
       "      <th>NTIPO_JORNADA</th>\n",
       "      <th>GRADO</th>\n",
       "      <th>NUGRADO</th>\n",
       "      <th>GRUPO</th>\n",
       "      <th>tel_sede</th>\n",
       "      <th>comp_sed</th>\n",
       "      <th>nom_doc</th>\n",
       "      <th>ema_doc</th>\n",
       "      <th>tel_doc</th>\n",
       "      <th>cel_doc</th>\n",
       "      <th>res_dig</th>\n",
       "      <th>res_med</th>\n",
       "      <th>PER_ID</th>\n",
       "      <th>NRO_DOCUMENTO</th>\n",
       "      <th>FECHA_NACIMIENTO</th>\n",
       "      <th>codigo_estudiante</th>\n",
       "      <th>APELLIDO1</th>\n",
       "      <th>APELLIDO2</th>\n",
       "      <th>NOMBRE1</th>\n",
       "      <th>NOMBRE2</th>\n",
       "      <th>GENERO</th>\n",
       "      <th>ESTRATO</th>\n",
       "      <th>peso1</th>\n",
       "      <th>peso2</th>\n",
       "      <th>peso3</th>\n",
       "      <th>talla1</th>\n",
       "      <th>talla2</th>\n",
       "      <th>talla3</th>\n",
       "      <th>cintura1</th>\n",
       "      <th>cintura2</th>\n",
       "      <th>cintura3</th>\n",
       "      <th>ETNIA</th>\n",
       "      <th>POB_VICT_CONF</th>\n",
       "      <th>TIPO_DISCAPACIDAD</th>\n",
       "      <th>fecha_me</th>\n",
       "      <th>gestante</th>\n",
       "      <th>semanas</th>\n",
       "      <th>meses</th>\n",
       "      <th>fecha_realizacion</th>\n",
       "      <th>reportado</th>\n",
       "      <th>estado</th>\n",
       "      <th>observacion</th>\n",
       "      <th>fecha_up</th>\n",
       "      <th>usuario</th>\n",
       "      <th>p4_1</th>\n",
       "      <th>p4_2</th>\n",
       "      <th>p4_3</th>\n",
       "      <th>p4_4</th>\n",
       "      <th>p4_5</th>\n",
       "      <th>p4_6</th>\n",
       "      <th>p4_7</th>\n",
       "      <th>p5</th>\n",
       "      <th>p5_cual</th>\n",
       "      <th>p6_1</th>\n",
       "      <th>p6_2</th>\n",
       "      <th>p6_3</th>\n",
       "      <th>p6_4</th>\n",
       "      <th>p7</th>\n",
       "      <th>p8</th>\n",
       "      <th>p9_1</th>\n",
       "      <th>p9_2</th>\n",
       "      <th>p9_3</th>\n",
       "      <th>p9_4</th>\n",
       "      <th>p9_77</th>\n",
       "      <th>p9_99</th>\n",
       "      <th>p9_77_cual</th>\n",
       "      <th>p10</th>\n",
       "      <th>p11</th>\n",
       "      <th>p12_1</th>\n",
       "      <th>p12_2</th>\n",
       "      <th>p12_3</th>\n",
       "      <th>p13_1</th>\n",
       "      <th>p13_2</th>\n",
       "      <th>p13_3</th>\n",
       "      <th>p14</th>\n",
       "      <th>p15</th>\n",
       "      <th>p16</th>\n",
       "      <th>p17</th>\n",
       "      <th>p18</th>\n",
       "      <th>p19</th>\n",
       "      <th>p20</th>\n",
       "      <th>p21</th>\n",
       "      <th>p22_1</th>\n",
       "      <th>p22_2</th>\n",
       "      <th>p22_3</th>\n",
       "      <th>p22_4</th>\n",
       "      <th>p22_5</th>\n",
       "      <th>p22_6</th>\n",
       "      <th>p22_7</th>\n",
       "      <th>p22_8</th>\n",
       "      <th>p22_9</th>\n",
       "      <th>p22_10</th>\n",
       "      <th>p22_11</th>\n",
       "      <th>p22_12</th>\n",
       "      <th>p22_13</th>\n",
       "      <th>p23_1</th>\n",
       "      <th>p23_2</th>\n",
       "      <th>p23_3</th>\n",
       "      <th>p23_4</th>\n",
       "      <th>p23_5</th>\n",
       "      <th>p23_6</th>\n",
       "      <th>p23_7</th>\n",
       "      <th>p23_77</th>\n",
       "      <th>p23_99</th>\n",
       "      <th>p23_77_cual</th>\n",
       "      <th>p24_1</th>\n",
       "      <th>p24_2</th>\n",
       "      <th>p24_3</th>\n",
       "      <th>p24_4</th>\n",
       "      <th>p24_5</th>\n",
       "      <th>p24_6</th>\n",
       "      <th>p25</th>\n",
       "      <th>p25_cual</th>\n",
       "      <th>p26_1</th>\n",
       "      <th>p26_2</th>\n",
       "      <th>p26_3</th>\n",
       "      <th>p26_4</th>\n",
       "      <th>p26_5</th>\n",
       "      <th>p26_6</th>\n",
       "      <th>p26_7</th>\n",
       "      <th>p27</th>\n",
       "      <th>p28_1</th>\n",
       "      <th>p28_2</th>\n",
       "      <th>p28_3</th>\n",
       "      <th>p28_4</th>\n",
       "      <th>p28_5</th>\n",
       "      <th>p28_6</th>\n",
       "      <th>p28_7</th>\n",
       "      <th>p28_77</th>\n",
       "      <th>p28_77_cual</th>\n",
       "      <th>p29_1</th>\n",
       "      <th>p29_2</th>\n",
       "      <th>p29_3</th>\n",
       "      <th>p29_4</th>\n",
       "      <th>p29_5</th>\n",
       "      <th>p29_6</th>\n",
       "      <th>p29_7</th>\n",
       "      <th>p29_77</th>\n",
       "      <th>p30</th>\n",
       "      <th>p31</th>\n",
       "      <th>p32</th>\n",
       "      <th>p33</th>\n",
       "      <th>p33_cual</th>\n",
       "      <th>p34</th>\n",
       "      <th>p34_cual</th>\n",
       "      <th>p35</th>\n",
       "      <th>p35_cual</th>\n",
       "      <th>p36</th>\n",
       "      <th>p37</th>\n",
       "      <th>p38</th>\n",
       "      <th>p39</th>\n",
       "      <th>p40_1</th>\n",
       "      <th>p40_2</th>\n",
       "      <th>p40_3</th>\n",
       "      <th>p40_4</th>\n",
       "      <th>p40_5</th>\n",
       "      <th>p40_6</th>\n",
       "      <th>p40_7</th>\n",
       "      <th>p40_77</th>\n",
       "      <th>p40_77_cual</th>\n",
       "      <th>p41</th>\n",
       "      <th>p42</th>\n",
       "      <th>p43</th>\n",
       "      <th>p44</th>\n",
       "    </tr>\n",
       "  </thead>\n",
       "  <tbody>\n",
       "    <tr>\n",
       "      <th>0</th>\n",
       "      <td>3,11E+11</td>\n",
       "      <td>TARDE</td>\n",
       "      <td>3</td>\n",
       "      <td>NaN</td>\n",
       "      <td>9</td>\n",
       "      <td>901</td>\n",
       "      <td>8033050</td>\n",
       "      <td>2.0</td>\n",
       "      <td>Jennifer Soto</td>\n",
       "      <td>jennifersoto93@gmail.com</td>\n",
       "      <td>8033050</td>\n",
       "      <td>3123110950</td>\n",
       "      <td>Maria Leon</td>\n",
       "      <td>Viviana Paz</td>\n",
       "      <td>18867769</td>\n",
       "      <td>1006006622</td>\n",
       "      <td>8/06/2001</td>\n",
       "      <td>NaN</td>\n",
       "      <td>RODRIGUEZ</td>\n",
       "      <td>NaN</td>\n",
       "      <td>JOHAN</td>\n",
       "      <td>FELIPE</td>\n",
       "      <td>M</td>\n",
       "      <td>1.0</td>\n",
       "      <td>670.000</td>\n",
       "      <td>670.000</td>\n",
       "      <td>0.0000</td>\n",
       "      <td>1.674.000</td>\n",
       "      <td>1.675.000</td>\n",
       "      <td>0.0000</td>\n",
       "      <td>NaN</td>\n",
       "      <td>NaN</td>\n",
       "      <td>NaN</td>\n",
       "      <td>0.0</td>\n",
       "      <td>99.0</td>\n",
       "      <td>NaN</td>\n",
       "      <td>NaN</td>\n",
       "      <td>NaN</td>\n",
       "      <td>NaN</td>\n",
       "      <td>NaN</td>\n",
       "      <td>13/09/2019 12:42</td>\n",
       "      <td>3</td>\n",
       "      <td>3</td>\n",
       "      <td>NaN</td>\n",
       "      <td>10/10/2019 15:22</td>\n",
       "      <td>114</td>\n",
       "      <td>NaN</td>\n",
       "      <td>NaN</td>\n",
       "      <td>NaN</td>\n",
       "      <td>NaN</td>\n",
       "      <td>NaN</td>\n",
       "      <td>NaN</td>\n",
       "      <td>NaN</td>\n",
       "      <td>NaN</td>\n",
       "      <td>NaN</td>\n",
       "      <td>NaN</td>\n",
       "      <td>NaN</td>\n",
       "      <td>NaN</td>\n",
       "      <td>NaN</td>\n",
       "      <td>NaN</td>\n",
       "      <td>NaN</td>\n",
       "      <td>NaN</td>\n",
       "      <td>NaN</td>\n",
       "      <td>NaN</td>\n",
       "      <td>NaN</td>\n",
       "      <td>NaN</td>\n",
       "      <td>NaN</td>\n",
       "      <td>NaN</td>\n",
       "      <td>NaN</td>\n",
       "      <td>NaN</td>\n",
       "      <td>NaN</td>\n",
       "      <td>NaN</td>\n",
       "      <td>NaN</td>\n",
       "      <td>NaN</td>\n",
       "      <td>NaN</td>\n",
       "      <td>NaN</td>\n",
       "      <td>NaN</td>\n",
       "      <td>NaN</td>\n",
       "      <td>NaN</td>\n",
       "      <td>NaN</td>\n",
       "      <td>NaN</td>\n",
       "      <td>NaN</td>\n",
       "      <td>NaN</td>\n",
       "      <td>NaN</td>\n",
       "      <td>NaN</td>\n",
       "      <td>NaN</td>\n",
       "      <td>NaN</td>\n",
       "      <td>NaN</td>\n",
       "      <td>NaN</td>\n",
       "      <td>NaN</td>\n",
       "      <td>NaN</td>\n",
       "      <td>NaN</td>\n",
       "      <td>NaN</td>\n",
       "      <td>NaN</td>\n",
       "      <td>NaN</td>\n",
       "      <td>NaN</td>\n",
       "      <td>NaN</td>\n",
       "      <td>NaN</td>\n",
       "      <td>NaN</td>\n",
       "      <td>NaN</td>\n",
       "      <td>NaN</td>\n",
       "      <td>NaN</td>\n",
       "      <td>NaN</td>\n",
       "      <td>NaN</td>\n",
       "      <td>NaN</td>\n",
       "      <td>NaN</td>\n",
       "      <td>NaN</td>\n",
       "      <td>NaN</td>\n",
       "      <td>NaN</td>\n",
       "      <td>NaN</td>\n",
       "      <td>NaN</td>\n",
       "      <td>NaN</td>\n",
       "      <td>NaN</td>\n",
       "      <td>NaN</td>\n",
       "      <td>NaN</td>\n",
       "      <td>NaN</td>\n",
       "      <td>NaN</td>\n",
       "      <td>NaN</td>\n",
       "      <td>NaN</td>\n",
       "      <td>NaN</td>\n",
       "      <td>NaN</td>\n",
       "      <td>NaN</td>\n",
       "      <td>NaN</td>\n",
       "      <td>NaN</td>\n",
       "      <td>NaN</td>\n",
       "      <td>NaN</td>\n",
       "      <td>NaN</td>\n",
       "      <td>NaN</td>\n",
       "      <td>NaN</td>\n",
       "      <td>NaN</td>\n",
       "      <td>NaN</td>\n",
       "      <td>NaN</td>\n",
       "      <td>NaN</td>\n",
       "      <td>NaN</td>\n",
       "      <td>NaN</td>\n",
       "      <td>NaN</td>\n",
       "      <td>NaN</td>\n",
       "      <td>NaN</td>\n",
       "      <td>NaN</td>\n",
       "      <td>NaN</td>\n",
       "      <td>NaN</td>\n",
       "      <td>NaN</td>\n",
       "      <td>NaN</td>\n",
       "      <td>NaN</td>\n",
       "      <td>NaN</td>\n",
       "      <td>NaN</td>\n",
       "      <td>NaN</td>\n",
       "      <td>NaN</td>\n",
       "      <td>NaN</td>\n",
       "      <td>NaN</td>\n",
       "      <td>NaN</td>\n",
       "      <td>NaN</td>\n",
       "      <td>NaN</td>\n",
       "      <td>NaN</td>\n",
       "      <td>NaN</td>\n",
       "      <td>NaN</td>\n",
       "      <td>NaN</td>\n",
       "      <td>NaN</td>\n",
       "      <td>NaN</td>\n",
       "      <td>NaN</td>\n",
       "      <td>NaN</td>\n",
       "      <td>NaN</td>\n",
       "      <td>NaN</td>\n",
       "      <td>NaN</td>\n",
       "      <td>NaN</td>\n",
       "      <td>NaN</td>\n",
       "    </tr>\n",
       "    <tr>\n",
       "      <th>1</th>\n",
       "      <td>1,11E+11</td>\n",
       "      <td>MAÑANA</td>\n",
       "      <td>2</td>\n",
       "      <td>NaN</td>\n",
       "      <td>10</td>\n",
       "      <td>1002</td>\n",
       "      <td>7367836</td>\n",
       "      <td>2.0</td>\n",
       "      <td>Ernesto Cortes</td>\n",
       "      <td>ernestocortes7@hotmail.com</td>\n",
       "      <td>7367836</td>\n",
       "      <td>3014836086</td>\n",
       "      <td>Maria Leon</td>\n",
       "      <td>Viviana Paz</td>\n",
       "      <td>21398256</td>\n",
       "      <td>1001546058</td>\n",
       "      <td>15/11/2002</td>\n",
       "      <td>NaN</td>\n",
       "      <td>VENTE</td>\n",
       "      <td>DAVID</td>\n",
       "      <td>YULISI</td>\n",
       "      <td>VANESSA</td>\n",
       "      <td>F</td>\n",
       "      <td>2.0</td>\n",
       "      <td>496.000</td>\n",
       "      <td>497.000</td>\n",
       "      <td>0.0000</td>\n",
       "      <td>1.550.000</td>\n",
       "      <td>1.553.000</td>\n",
       "      <td>0.0000</td>\n",
       "      <td>NaN</td>\n",
       "      <td>NaN</td>\n",
       "      <td>NaN</td>\n",
       "      <td>0.0</td>\n",
       "      <td>1.0</td>\n",
       "      <td>NaN</td>\n",
       "      <td>NaN</td>\n",
       "      <td>undefined</td>\n",
       "      <td>NaN</td>\n",
       "      <td>NaN</td>\n",
       "      <td>18/09/2019 9:54</td>\n",
       "      <td>3</td>\n",
       "      <td>3</td>\n",
       "      <td>NaN</td>\n",
       "      <td>10/10/2019 15:22</td>\n",
       "      <td>114</td>\n",
       "      <td>NaN</td>\n",
       "      <td>NaN</td>\n",
       "      <td>NaN</td>\n",
       "      <td>NaN</td>\n",
       "      <td>NaN</td>\n",
       "      <td>NaN</td>\n",
       "      <td>NaN</td>\n",
       "      <td>NaN</td>\n",
       "      <td>NaN</td>\n",
       "      <td>NaN</td>\n",
       "      <td>NaN</td>\n",
       "      <td>NaN</td>\n",
       "      <td>NaN</td>\n",
       "      <td>NaN</td>\n",
       "      <td>NaN</td>\n",
       "      <td>NaN</td>\n",
       "      <td>NaN</td>\n",
       "      <td>NaN</td>\n",
       "      <td>NaN</td>\n",
       "      <td>NaN</td>\n",
       "      <td>NaN</td>\n",
       "      <td>NaN</td>\n",
       "      <td>NaN</td>\n",
       "      <td>NaN</td>\n",
       "      <td>NaN</td>\n",
       "      <td>NaN</td>\n",
       "      <td>NaN</td>\n",
       "      <td>NaN</td>\n",
       "      <td>NaN</td>\n",
       "      <td>NaN</td>\n",
       "      <td>NaN</td>\n",
       "      <td>NaN</td>\n",
       "      <td>NaN</td>\n",
       "      <td>NaN</td>\n",
       "      <td>NaN</td>\n",
       "      <td>NaN</td>\n",
       "      <td>NaN</td>\n",
       "      <td>NaN</td>\n",
       "      <td>NaN</td>\n",
       "      <td>NaN</td>\n",
       "      <td>NaN</td>\n",
       "      <td>NaN</td>\n",
       "      <td>NaN</td>\n",
       "      <td>NaN</td>\n",
       "      <td>NaN</td>\n",
       "      <td>NaN</td>\n",
       "      <td>NaN</td>\n",
       "      <td>NaN</td>\n",
       "      <td>NaN</td>\n",
       "      <td>NaN</td>\n",
       "      <td>NaN</td>\n",
       "      <td>NaN</td>\n",
       "      <td>NaN</td>\n",
       "      <td>NaN</td>\n",
       "      <td>NaN</td>\n",
       "      <td>NaN</td>\n",
       "      <td>NaN</td>\n",
       "      <td>NaN</td>\n",
       "      <td>NaN</td>\n",
       "      <td>NaN</td>\n",
       "      <td>NaN</td>\n",
       "      <td>NaN</td>\n",
       "      <td>NaN</td>\n",
       "      <td>NaN</td>\n",
       "      <td>NaN</td>\n",
       "      <td>NaN</td>\n",
       "      <td>NaN</td>\n",
       "      <td>NaN</td>\n",
       "      <td>NaN</td>\n",
       "      <td>NaN</td>\n",
       "      <td>NaN</td>\n",
       "      <td>NaN</td>\n",
       "      <td>NaN</td>\n",
       "      <td>NaN</td>\n",
       "      <td>NaN</td>\n",
       "      <td>NaN</td>\n",
       "      <td>NaN</td>\n",
       "      <td>NaN</td>\n",
       "      <td>NaN</td>\n",
       "      <td>NaN</td>\n",
       "      <td>NaN</td>\n",
       "      <td>NaN</td>\n",
       "      <td>NaN</td>\n",
       "      <td>NaN</td>\n",
       "      <td>NaN</td>\n",
       "      <td>NaN</td>\n",
       "      <td>NaN</td>\n",
       "      <td>NaN</td>\n",
       "      <td>NaN</td>\n",
       "      <td>NaN</td>\n",
       "      <td>NaN</td>\n",
       "      <td>NaN</td>\n",
       "      <td>NaN</td>\n",
       "      <td>NaN</td>\n",
       "      <td>NaN</td>\n",
       "      <td>NaN</td>\n",
       "      <td>NaN</td>\n",
       "      <td>NaN</td>\n",
       "      <td>NaN</td>\n",
       "      <td>NaN</td>\n",
       "      <td>NaN</td>\n",
       "      <td>NaN</td>\n",
       "      <td>NaN</td>\n",
       "      <td>NaN</td>\n",
       "      <td>NaN</td>\n",
       "      <td>NaN</td>\n",
       "      <td>NaN</td>\n",
       "      <td>NaN</td>\n",
       "      <td>NaN</td>\n",
       "      <td>NaN</td>\n",
       "      <td>NaN</td>\n",
       "      <td>NaN</td>\n",
       "      <td>NaN</td>\n",
       "      <td>NaN</td>\n",
       "      <td>NaN</td>\n",
       "      <td>NaN</td>\n",
       "      <td>NaN</td>\n",
       "      <td>NaN</td>\n",
       "      <td>NaN</td>\n",
       "      <td>NaN</td>\n",
       "    </tr>\n",
       "    <tr>\n",
       "      <th>2</th>\n",
       "      <td>1,11E+11</td>\n",
       "      <td>MAÑANA</td>\n",
       "      <td>2</td>\n",
       "      <td>NaN</td>\n",
       "      <td>9</td>\n",
       "      <td>901</td>\n",
       "      <td>7661134</td>\n",
       "      <td>2.0</td>\n",
       "      <td>Pilar Suarez</td>\n",
       "      <td>mabelriosp@hotmail.com</td>\n",
       "      <td>7367836</td>\n",
       "      <td>3014613651</td>\n",
       "      <td>Maria Leon</td>\n",
       "      <td>Viviana Paz</td>\n",
       "      <td>24630662</td>\n",
       "      <td>1013096175</td>\n",
       "      <td>6/10/2003</td>\n",
       "      <td>NaN</td>\n",
       "      <td>MIRANDA</td>\n",
       "      <td>DE LA HOZ</td>\n",
       "      <td>ROBERTO</td>\n",
       "      <td>CARLOS</td>\n",
       "      <td>M</td>\n",
       "      <td>1.0</td>\n",
       "      <td>519.000</td>\n",
       "      <td>519.000</td>\n",
       "      <td>0.0000</td>\n",
       "      <td>1.655.000</td>\n",
       "      <td>1.655.000</td>\n",
       "      <td>0.0000</td>\n",
       "      <td>NaN</td>\n",
       "      <td>NaN</td>\n",
       "      <td>NaN</td>\n",
       "      <td>0.0</td>\n",
       "      <td>99.0</td>\n",
       "      <td>NaN</td>\n",
       "      <td>NaN</td>\n",
       "      <td>NaN</td>\n",
       "      <td>NaN</td>\n",
       "      <td>NaN</td>\n",
       "      <td>4/09/2019 11:27</td>\n",
       "      <td>3</td>\n",
       "      <td>3</td>\n",
       "      <td>NaN</td>\n",
       "      <td>10/10/2019 15:22</td>\n",
       "      <td>114</td>\n",
       "      <td>NaN</td>\n",
       "      <td>NaN</td>\n",
       "      <td>NaN</td>\n",
       "      <td>NaN</td>\n",
       "      <td>NaN</td>\n",
       "      <td>NaN</td>\n",
       "      <td>NaN</td>\n",
       "      <td>NaN</td>\n",
       "      <td>NaN</td>\n",
       "      <td>NaN</td>\n",
       "      <td>NaN</td>\n",
       "      <td>NaN</td>\n",
       "      <td>NaN</td>\n",
       "      <td>NaN</td>\n",
       "      <td>NaN</td>\n",
       "      <td>NaN</td>\n",
       "      <td>NaN</td>\n",
       "      <td>NaN</td>\n",
       "      <td>NaN</td>\n",
       "      <td>NaN</td>\n",
       "      <td>NaN</td>\n",
       "      <td>NaN</td>\n",
       "      <td>NaN</td>\n",
       "      <td>NaN</td>\n",
       "      <td>NaN</td>\n",
       "      <td>NaN</td>\n",
       "      <td>NaN</td>\n",
       "      <td>NaN</td>\n",
       "      <td>NaN</td>\n",
       "      <td>NaN</td>\n",
       "      <td>NaN</td>\n",
       "      <td>NaN</td>\n",
       "      <td>NaN</td>\n",
       "      <td>NaN</td>\n",
       "      <td>NaN</td>\n",
       "      <td>NaN</td>\n",
       "      <td>NaN</td>\n",
       "      <td>NaN</td>\n",
       "      <td>NaN</td>\n",
       "      <td>NaN</td>\n",
       "      <td>NaN</td>\n",
       "      <td>NaN</td>\n",
       "      <td>NaN</td>\n",
       "      <td>NaN</td>\n",
       "      <td>NaN</td>\n",
       "      <td>NaN</td>\n",
       "      <td>NaN</td>\n",
       "      <td>NaN</td>\n",
       "      <td>NaN</td>\n",
       "      <td>NaN</td>\n",
       "      <td>NaN</td>\n",
       "      <td>NaN</td>\n",
       "      <td>NaN</td>\n",
       "      <td>NaN</td>\n",
       "      <td>NaN</td>\n",
       "      <td>NaN</td>\n",
       "      <td>NaN</td>\n",
       "      <td>NaN</td>\n",
       "      <td>NaN</td>\n",
       "      <td>NaN</td>\n",
       "      <td>NaN</td>\n",
       "      <td>NaN</td>\n",
       "      <td>NaN</td>\n",
       "      <td>NaN</td>\n",
       "      <td>NaN</td>\n",
       "      <td>NaN</td>\n",
       "      <td>NaN</td>\n",
       "      <td>NaN</td>\n",
       "      <td>NaN</td>\n",
       "      <td>NaN</td>\n",
       "      <td>NaN</td>\n",
       "      <td>NaN</td>\n",
       "      <td>NaN</td>\n",
       "      <td>NaN</td>\n",
       "      <td>NaN</td>\n",
       "      <td>NaN</td>\n",
       "      <td>NaN</td>\n",
       "      <td>NaN</td>\n",
       "      <td>NaN</td>\n",
       "      <td>NaN</td>\n",
       "      <td>NaN</td>\n",
       "      <td>NaN</td>\n",
       "      <td>NaN</td>\n",
       "      <td>NaN</td>\n",
       "      <td>NaN</td>\n",
       "      <td>NaN</td>\n",
       "      <td>NaN</td>\n",
       "      <td>NaN</td>\n",
       "      <td>NaN</td>\n",
       "      <td>NaN</td>\n",
       "      <td>NaN</td>\n",
       "      <td>NaN</td>\n",
       "      <td>NaN</td>\n",
       "      <td>NaN</td>\n",
       "      <td>NaN</td>\n",
       "      <td>NaN</td>\n",
       "      <td>NaN</td>\n",
       "      <td>NaN</td>\n",
       "      <td>NaN</td>\n",
       "      <td>NaN</td>\n",
       "      <td>NaN</td>\n",
       "      <td>NaN</td>\n",
       "      <td>NaN</td>\n",
       "      <td>NaN</td>\n",
       "      <td>NaN</td>\n",
       "      <td>NaN</td>\n",
       "      <td>NaN</td>\n",
       "      <td>NaN</td>\n",
       "      <td>NaN</td>\n",
       "      <td>NaN</td>\n",
       "      <td>NaN</td>\n",
       "      <td>NaN</td>\n",
       "      <td>NaN</td>\n",
       "      <td>NaN</td>\n",
       "      <td>NaN</td>\n",
       "      <td>NaN</td>\n",
       "      <td>NaN</td>\n",
       "      <td>NaN</td>\n",
       "      <td>NaN</td>\n",
       "      <td>NaN</td>\n",
       "    </tr>\n",
       "    <tr>\n",
       "      <th>3</th>\n",
       "      <td>1,11E+11</td>\n",
       "      <td>MAÑANA</td>\n",
       "      <td>2</td>\n",
       "      <td>NaN</td>\n",
       "      <td>9</td>\n",
       "      <td>902</td>\n",
       "      <td>7367836</td>\n",
       "      <td>2.0</td>\n",
       "      <td>Johnny Alberto Martinez</td>\n",
       "      <td>turbomilitar@gmail.com</td>\n",
       "      <td>7367836</td>\n",
       "      <td>3123110950</td>\n",
       "      <td>Maria Leon</td>\n",
       "      <td>Viviana Paz</td>\n",
       "      <td>25012541</td>\n",
       "      <td>1089382841</td>\n",
       "      <td>29/04/2003</td>\n",
       "      <td>NaN</td>\n",
       "      <td>MORENO</td>\n",
       "      <td>OSORIO</td>\n",
       "      <td>LAURA</td>\n",
       "      <td>MELISSA</td>\n",
       "      <td>F</td>\n",
       "      <td>1.0</td>\n",
       "      <td>520.000</td>\n",
       "      <td>520.000</td>\n",
       "      <td>0.0000</td>\n",
       "      <td>1.530.000</td>\n",
       "      <td>1.530.000</td>\n",
       "      <td>0.0000</td>\n",
       "      <td>NaN</td>\n",
       "      <td>NaN</td>\n",
       "      <td>NaN</td>\n",
       "      <td>0.0</td>\n",
       "      <td>99.0</td>\n",
       "      <td>NaN</td>\n",
       "      <td>NaN</td>\n",
       "      <td>undefined</td>\n",
       "      <td>NaN</td>\n",
       "      <td>NaN</td>\n",
       "      <td>25/09/2019 8:55</td>\n",
       "      <td>3</td>\n",
       "      <td>3</td>\n",
       "      <td>NaN</td>\n",
       "      <td>10/10/2019 15:22</td>\n",
       "      <td>114</td>\n",
       "      <td>NaN</td>\n",
       "      <td>NaN</td>\n",
       "      <td>NaN</td>\n",
       "      <td>NaN</td>\n",
       "      <td>NaN</td>\n",
       "      <td>NaN</td>\n",
       "      <td>NaN</td>\n",
       "      <td>NaN</td>\n",
       "      <td>NaN</td>\n",
       "      <td>NaN</td>\n",
       "      <td>NaN</td>\n",
       "      <td>NaN</td>\n",
       "      <td>NaN</td>\n",
       "      <td>NaN</td>\n",
       "      <td>NaN</td>\n",
       "      <td>NaN</td>\n",
       "      <td>NaN</td>\n",
       "      <td>NaN</td>\n",
       "      <td>NaN</td>\n",
       "      <td>NaN</td>\n",
       "      <td>NaN</td>\n",
       "      <td>NaN</td>\n",
       "      <td>NaN</td>\n",
       "      <td>NaN</td>\n",
       "      <td>NaN</td>\n",
       "      <td>NaN</td>\n",
       "      <td>NaN</td>\n",
       "      <td>NaN</td>\n",
       "      <td>NaN</td>\n",
       "      <td>NaN</td>\n",
       "      <td>NaN</td>\n",
       "      <td>NaN</td>\n",
       "      <td>NaN</td>\n",
       "      <td>NaN</td>\n",
       "      <td>NaN</td>\n",
       "      <td>NaN</td>\n",
       "      <td>NaN</td>\n",
       "      <td>NaN</td>\n",
       "      <td>NaN</td>\n",
       "      <td>NaN</td>\n",
       "      <td>NaN</td>\n",
       "      <td>NaN</td>\n",
       "      <td>NaN</td>\n",
       "      <td>NaN</td>\n",
       "      <td>NaN</td>\n",
       "      <td>NaN</td>\n",
       "      <td>NaN</td>\n",
       "      <td>NaN</td>\n",
       "      <td>NaN</td>\n",
       "      <td>NaN</td>\n",
       "      <td>NaN</td>\n",
       "      <td>NaN</td>\n",
       "      <td>NaN</td>\n",
       "      <td>NaN</td>\n",
       "      <td>NaN</td>\n",
       "      <td>NaN</td>\n",
       "      <td>NaN</td>\n",
       "      <td>NaN</td>\n",
       "      <td>NaN</td>\n",
       "      <td>NaN</td>\n",
       "      <td>NaN</td>\n",
       "      <td>NaN</td>\n",
       "      <td>NaN</td>\n",
       "      <td>NaN</td>\n",
       "      <td>NaN</td>\n",
       "      <td>NaN</td>\n",
       "      <td>NaN</td>\n",
       "      <td>NaN</td>\n",
       "      <td>NaN</td>\n",
       "      <td>NaN</td>\n",
       "      <td>NaN</td>\n",
       "      <td>NaN</td>\n",
       "      <td>NaN</td>\n",
       "      <td>NaN</td>\n",
       "      <td>NaN</td>\n",
       "      <td>NaN</td>\n",
       "      <td>NaN</td>\n",
       "      <td>NaN</td>\n",
       "      <td>NaN</td>\n",
       "      <td>NaN</td>\n",
       "      <td>NaN</td>\n",
       "      <td>NaN</td>\n",
       "      <td>NaN</td>\n",
       "      <td>NaN</td>\n",
       "      <td>NaN</td>\n",
       "      <td>NaN</td>\n",
       "      <td>NaN</td>\n",
       "      <td>NaN</td>\n",
       "      <td>NaN</td>\n",
       "      <td>NaN</td>\n",
       "      <td>NaN</td>\n",
       "      <td>NaN</td>\n",
       "      <td>NaN</td>\n",
       "      <td>NaN</td>\n",
       "      <td>NaN</td>\n",
       "      <td>NaN</td>\n",
       "      <td>NaN</td>\n",
       "      <td>NaN</td>\n",
       "      <td>NaN</td>\n",
       "      <td>NaN</td>\n",
       "      <td>NaN</td>\n",
       "      <td>NaN</td>\n",
       "      <td>NaN</td>\n",
       "      <td>NaN</td>\n",
       "      <td>NaN</td>\n",
       "      <td>NaN</td>\n",
       "      <td>NaN</td>\n",
       "      <td>NaN</td>\n",
       "      <td>NaN</td>\n",
       "      <td>NaN</td>\n",
       "      <td>NaN</td>\n",
       "      <td>NaN</td>\n",
       "      <td>NaN</td>\n",
       "      <td>NaN</td>\n",
       "      <td>NaN</td>\n",
       "      <td>NaN</td>\n",
       "      <td>NaN</td>\n",
       "      <td>NaN</td>\n",
       "      <td>NaN</td>\n",
       "      <td>NaN</td>\n",
       "    </tr>\n",
       "    <tr>\n",
       "      <th>4</th>\n",
       "      <td>1,11E+11</td>\n",
       "      <td>MAÑANA</td>\n",
       "      <td>2</td>\n",
       "      <td>NaN</td>\n",
       "      <td>9</td>\n",
       "      <td>901</td>\n",
       "      <td>3676321</td>\n",
       "      <td>2.0</td>\n",
       "      <td>Rene Gomez</td>\n",
       "      <td>Da68gomez@gmail.com</td>\n",
       "      <td>3676321</td>\n",
       "      <td>3102345678</td>\n",
       "      <td>Maria Leon</td>\n",
       "      <td>Viviana Paz</td>\n",
       "      <td>25357922</td>\n",
       "      <td>1000935093</td>\n",
       "      <td>27/05/2001</td>\n",
       "      <td>NaN</td>\n",
       "      <td>MUÑOZ</td>\n",
       "      <td>ROBAYO</td>\n",
       "      <td>DAVID</td>\n",
       "      <td>STEVEN</td>\n",
       "      <td>M</td>\n",
       "      <td>2.0</td>\n",
       "      <td>446.000</td>\n",
       "      <td>447.000</td>\n",
       "      <td>0.0000</td>\n",
       "      <td>1.630.000</td>\n",
       "      <td>1.630.000</td>\n",
       "      <td>0.0000</td>\n",
       "      <td>NaN</td>\n",
       "      <td>NaN</td>\n",
       "      <td>NaN</td>\n",
       "      <td>0.0</td>\n",
       "      <td>99.0</td>\n",
       "      <td>NaN</td>\n",
       "      <td>NaN</td>\n",
       "      <td>NaN</td>\n",
       "      <td>NaN</td>\n",
       "      <td>NaN</td>\n",
       "      <td>9/09/2019 8:33</td>\n",
       "      <td>3</td>\n",
       "      <td>3</td>\n",
       "      <td>NaN</td>\n",
       "      <td>10/10/2019 15:22</td>\n",
       "      <td>114</td>\n",
       "      <td>NaN</td>\n",
       "      <td>NaN</td>\n",
       "      <td>NaN</td>\n",
       "      <td>NaN</td>\n",
       "      <td>NaN</td>\n",
       "      <td>NaN</td>\n",
       "      <td>NaN</td>\n",
       "      <td>NaN</td>\n",
       "      <td>NaN</td>\n",
       "      <td>NaN</td>\n",
       "      <td>NaN</td>\n",
       "      <td>NaN</td>\n",
       "      <td>NaN</td>\n",
       "      <td>NaN</td>\n",
       "      <td>NaN</td>\n",
       "      <td>NaN</td>\n",
       "      <td>NaN</td>\n",
       "      <td>NaN</td>\n",
       "      <td>NaN</td>\n",
       "      <td>NaN</td>\n",
       "      <td>NaN</td>\n",
       "      <td>NaN</td>\n",
       "      <td>NaN</td>\n",
       "      <td>NaN</td>\n",
       "      <td>NaN</td>\n",
       "      <td>NaN</td>\n",
       "      <td>NaN</td>\n",
       "      <td>NaN</td>\n",
       "      <td>NaN</td>\n",
       "      <td>NaN</td>\n",
       "      <td>NaN</td>\n",
       "      <td>NaN</td>\n",
       "      <td>NaN</td>\n",
       "      <td>NaN</td>\n",
       "      <td>NaN</td>\n",
       "      <td>NaN</td>\n",
       "      <td>NaN</td>\n",
       "      <td>NaN</td>\n",
       "      <td>NaN</td>\n",
       "      <td>NaN</td>\n",
       "      <td>NaN</td>\n",
       "      <td>NaN</td>\n",
       "      <td>NaN</td>\n",
       "      <td>NaN</td>\n",
       "      <td>NaN</td>\n",
       "      <td>NaN</td>\n",
       "      <td>NaN</td>\n",
       "      <td>NaN</td>\n",
       "      <td>NaN</td>\n",
       "      <td>NaN</td>\n",
       "      <td>NaN</td>\n",
       "      <td>NaN</td>\n",
       "      <td>NaN</td>\n",
       "      <td>NaN</td>\n",
       "      <td>NaN</td>\n",
       "      <td>NaN</td>\n",
       "      <td>NaN</td>\n",
       "      <td>NaN</td>\n",
       "      <td>NaN</td>\n",
       "      <td>NaN</td>\n",
       "      <td>NaN</td>\n",
       "      <td>NaN</td>\n",
       "      <td>NaN</td>\n",
       "      <td>NaN</td>\n",
       "      <td>NaN</td>\n",
       "      <td>NaN</td>\n",
       "      <td>NaN</td>\n",
       "      <td>NaN</td>\n",
       "      <td>NaN</td>\n",
       "      <td>NaN</td>\n",
       "      <td>NaN</td>\n",
       "      <td>NaN</td>\n",
       "      <td>NaN</td>\n",
       "      <td>NaN</td>\n",
       "      <td>NaN</td>\n",
       "      <td>NaN</td>\n",
       "      <td>NaN</td>\n",
       "      <td>NaN</td>\n",
       "      <td>NaN</td>\n",
       "      <td>NaN</td>\n",
       "      <td>NaN</td>\n",
       "      <td>NaN</td>\n",
       "      <td>NaN</td>\n",
       "      <td>NaN</td>\n",
       "      <td>NaN</td>\n",
       "      <td>NaN</td>\n",
       "      <td>NaN</td>\n",
       "      <td>NaN</td>\n",
       "      <td>NaN</td>\n",
       "      <td>NaN</td>\n",
       "      <td>NaN</td>\n",
       "      <td>NaN</td>\n",
       "      <td>NaN</td>\n",
       "      <td>NaN</td>\n",
       "      <td>NaN</td>\n",
       "      <td>NaN</td>\n",
       "      <td>NaN</td>\n",
       "      <td>NaN</td>\n",
       "      <td>NaN</td>\n",
       "      <td>NaN</td>\n",
       "      <td>NaN</td>\n",
       "      <td>NaN</td>\n",
       "      <td>NaN</td>\n",
       "      <td>NaN</td>\n",
       "      <td>NaN</td>\n",
       "      <td>NaN</td>\n",
       "      <td>NaN</td>\n",
       "      <td>NaN</td>\n",
       "      <td>NaN</td>\n",
       "      <td>NaN</td>\n",
       "      <td>NaN</td>\n",
       "      <td>NaN</td>\n",
       "      <td>NaN</td>\n",
       "      <td>NaN</td>\n",
       "      <td>NaN</td>\n",
       "      <td>NaN</td>\n",
       "      <td>NaN</td>\n",
       "      <td>NaN</td>\n",
       "      <td>NaN</td>\n",
       "      <td>NaN</td>\n",
       "    </tr>\n",
       "  </tbody>\n",
       "</table>\n",
       "</div>"
      ],
      "text/plain": [
       "  DANE_ANTERIOR TIPO_JORNADA  NTIPO_JORNADA GRADO  NUGRADO GRUPO tel_sede  \\\n",
       "0      3,11E+11        TARDE              3   NaN        9   901  8033050   \n",
       "1      1,11E+11       MAÑANA              2   NaN       10  1002  7367836   \n",
       "2      1,11E+11       MAÑANA              2   NaN        9   901  7661134   \n",
       "3      1,11E+11       MAÑANA              2   NaN        9   902  7367836   \n",
       "4      1,11E+11       MAÑANA              2   NaN        9   901  3676321   \n",
       "\n",
       "   comp_sed                  nom_doc                     ema_doc  tel_doc  \\\n",
       "0       2.0            Jennifer Soto    jennifersoto93@gmail.com  8033050   \n",
       "1       2.0           Ernesto Cortes  ernestocortes7@hotmail.com  7367836   \n",
       "2       2.0             Pilar Suarez      mabelriosp@hotmail.com  7367836   \n",
       "3       2.0  Johnny Alberto Martinez      turbomilitar@gmail.com  7367836   \n",
       "4       2.0               Rene Gomez         Da68gomez@gmail.com  3676321   \n",
       "\n",
       "      cel_doc     res_dig      res_med    PER_ID NRO_DOCUMENTO  \\\n",
       "0  3123110950  Maria Leon  Viviana Paz  18867769    1006006622   \n",
       "1  3014836086  Maria Leon  Viviana Paz  21398256    1001546058   \n",
       "2  3014613651  Maria Leon  Viviana Paz  24630662    1013096175   \n",
       "3  3123110950  Maria Leon  Viviana Paz  25012541    1089382841   \n",
       "4  3102345678  Maria Leon  Viviana Paz  25357922    1000935093   \n",
       "\n",
       "  FECHA_NACIMIENTO codigo_estudiante  APELLIDO1  APELLIDO2  NOMBRE1  NOMBRE2  \\\n",
       "0        8/06/2001               NaN  RODRIGUEZ        NaN    JOHAN   FELIPE   \n",
       "1       15/11/2002               NaN      VENTE      DAVID   YULISI  VANESSA   \n",
       "2        6/10/2003               NaN    MIRANDA  DE LA HOZ  ROBERTO   CARLOS   \n",
       "3       29/04/2003               NaN     MORENO     OSORIO    LAURA  MELISSA   \n",
       "4       27/05/2001               NaN      MUÑOZ     ROBAYO    DAVID   STEVEN   \n",
       "\n",
       "  GENERO  ESTRATO    peso1    peso2   peso3     talla1     talla2  talla3  \\\n",
       "0      M      1.0  670.000  670.000  0.0000  1.674.000  1.675.000  0.0000   \n",
       "1      F      2.0  496.000  497.000  0.0000  1.550.000  1.553.000  0.0000   \n",
       "2      M      1.0  519.000  519.000  0.0000  1.655.000  1.655.000  0.0000   \n",
       "3      F      1.0  520.000  520.000  0.0000  1.530.000  1.530.000  0.0000   \n",
       "4      M      2.0  446.000  447.000  0.0000  1.630.000  1.630.000  0.0000   \n",
       "\n",
       "   cintura1  cintura2  cintura3  ETNIA  POB_VICT_CONF  TIPO_DISCAPACIDAD  \\\n",
       "0       NaN       NaN       NaN    0.0           99.0                NaN   \n",
       "1       NaN       NaN       NaN    0.0            1.0                NaN   \n",
       "2       NaN       NaN       NaN    0.0           99.0                NaN   \n",
       "3       NaN       NaN       NaN    0.0           99.0                NaN   \n",
       "4       NaN       NaN       NaN    0.0           99.0                NaN   \n",
       "\n",
       "   fecha_me   gestante  semanas  meses fecha_realizacion  reportado  estado  \\\n",
       "0       NaN        NaN      NaN    NaN  13/09/2019 12:42          3       3   \n",
       "1       NaN  undefined      NaN    NaN   18/09/2019 9:54          3       3   \n",
       "2       NaN        NaN      NaN    NaN   4/09/2019 11:27          3       3   \n",
       "3       NaN  undefined      NaN    NaN   25/09/2019 8:55          3       3   \n",
       "4       NaN        NaN      NaN    NaN    9/09/2019 8:33          3       3   \n",
       "\n",
       "  observacion          fecha_up  usuario  p4_1  p4_2  p4_3  p4_4  p4_5  p4_6  \\\n",
       "0         NaN  10/10/2019 15:22      114   NaN   NaN   NaN   NaN   NaN   NaN   \n",
       "1         NaN  10/10/2019 15:22      114   NaN   NaN   NaN   NaN   NaN   NaN   \n",
       "2         NaN  10/10/2019 15:22      114   NaN   NaN   NaN   NaN   NaN   NaN   \n",
       "3         NaN  10/10/2019 15:22      114   NaN   NaN   NaN   NaN   NaN   NaN   \n",
       "4         NaN  10/10/2019 15:22      114   NaN   NaN   NaN   NaN   NaN   NaN   \n",
       "\n",
       "   p4_7  p5 p5_cual  p6_1  p6_2  p6_3  p6_4  p7  p8  p9_1  p9_2  p9_3  p9_4  \\\n",
       "0   NaN NaN     NaN   NaN   NaN   NaN   NaN NaN NaN   NaN   NaN   NaN   NaN   \n",
       "1   NaN NaN     NaN   NaN   NaN   NaN   NaN NaN NaN   NaN   NaN   NaN   NaN   \n",
       "2   NaN NaN     NaN   NaN   NaN   NaN   NaN NaN NaN   NaN   NaN   NaN   NaN   \n",
       "3   NaN NaN     NaN   NaN   NaN   NaN   NaN NaN NaN   NaN   NaN   NaN   NaN   \n",
       "4   NaN NaN     NaN   NaN   NaN   NaN   NaN NaN NaN   NaN   NaN   NaN   NaN   \n",
       "\n",
       "   p9_77  p9_99 p9_77_cual  p10  p11 p12_1 p12_2 p12_3 p13_1 p13_2 p13_3  p14  \\\n",
       "0    NaN    NaN        NaN  NaN  NaN   NaN   NaN   NaN   NaN   NaN   NaN  NaN   \n",
       "1    NaN    NaN        NaN  NaN  NaN   NaN   NaN   NaN   NaN   NaN   NaN  NaN   \n",
       "2    NaN    NaN        NaN  NaN  NaN   NaN   NaN   NaN   NaN   NaN   NaN  NaN   \n",
       "3    NaN    NaN        NaN  NaN  NaN   NaN   NaN   NaN   NaN   NaN   NaN  NaN   \n",
       "4    NaN    NaN        NaN  NaN  NaN   NaN   NaN   NaN   NaN   NaN   NaN  NaN   \n",
       "\n",
       "   p15  p16  p17  p18  p19  p20  p21  p22_1  p22_2  p22_3  p22_4  p22_5  \\\n",
       "0  NaN  NaN  NaN  NaN  NaN  NaN  NaN    NaN    NaN    NaN    NaN    NaN   \n",
       "1  NaN  NaN  NaN  NaN  NaN  NaN  NaN    NaN    NaN    NaN    NaN    NaN   \n",
       "2  NaN  NaN  NaN  NaN  NaN  NaN  NaN    NaN    NaN    NaN    NaN    NaN   \n",
       "3  NaN  NaN  NaN  NaN  NaN  NaN  NaN    NaN    NaN    NaN    NaN    NaN   \n",
       "4  NaN  NaN  NaN  NaN  NaN  NaN  NaN    NaN    NaN    NaN    NaN    NaN   \n",
       "\n",
       "   p22_6  p22_7  p22_8  p22_9  p22_10  p22_11  p22_12  p22_13  p23_1  p23_2  \\\n",
       "0    NaN    NaN    NaN    NaN     NaN     NaN     NaN     NaN    NaN    NaN   \n",
       "1    NaN    NaN    NaN    NaN     NaN     NaN     NaN     NaN    NaN    NaN   \n",
       "2    NaN    NaN    NaN    NaN     NaN     NaN     NaN     NaN    NaN    NaN   \n",
       "3    NaN    NaN    NaN    NaN     NaN     NaN     NaN     NaN    NaN    NaN   \n",
       "4    NaN    NaN    NaN    NaN     NaN     NaN     NaN     NaN    NaN    NaN   \n",
       "\n",
       "   p23_3  p23_4  p23_5  p23_6  p23_7  p23_77  p23_99 p23_77_cual  p24_1  \\\n",
       "0    NaN    NaN    NaN    NaN    NaN     NaN     NaN         NaN    NaN   \n",
       "1    NaN    NaN    NaN    NaN    NaN     NaN     NaN         NaN    NaN   \n",
       "2    NaN    NaN    NaN    NaN    NaN     NaN     NaN         NaN    NaN   \n",
       "3    NaN    NaN    NaN    NaN    NaN     NaN     NaN         NaN    NaN   \n",
       "4    NaN    NaN    NaN    NaN    NaN     NaN     NaN         NaN    NaN   \n",
       "\n",
       "   p24_2  p24_3  p24_4  p24_5  p24_6  p25 p25_cual  p26_1  p26_2  p26_3  \\\n",
       "0    NaN    NaN    NaN    NaN    NaN  NaN      NaN    NaN    NaN    NaN   \n",
       "1    NaN    NaN    NaN    NaN    NaN  NaN      NaN    NaN    NaN    NaN   \n",
       "2    NaN    NaN    NaN    NaN    NaN  NaN      NaN    NaN    NaN    NaN   \n",
       "3    NaN    NaN    NaN    NaN    NaN  NaN      NaN    NaN    NaN    NaN   \n",
       "4    NaN    NaN    NaN    NaN    NaN  NaN      NaN    NaN    NaN    NaN   \n",
       "\n",
       "   p26_4  p26_5  p26_6  p26_7  p27  p28_1  p28_2  p28_3  p28_4  p28_5  p28_6  \\\n",
       "0    NaN    NaN    NaN    NaN  NaN    NaN    NaN    NaN    NaN    NaN    NaN   \n",
       "1    NaN    NaN    NaN    NaN  NaN    NaN    NaN    NaN    NaN    NaN    NaN   \n",
       "2    NaN    NaN    NaN    NaN  NaN    NaN    NaN    NaN    NaN    NaN    NaN   \n",
       "3    NaN    NaN    NaN    NaN  NaN    NaN    NaN    NaN    NaN    NaN    NaN   \n",
       "4    NaN    NaN    NaN    NaN  NaN    NaN    NaN    NaN    NaN    NaN    NaN   \n",
       "\n",
       "   p28_7  p28_77 p28_77_cual  p29_1  p29_2  p29_3  p29_4  p29_5  p29_6  p29_7  \\\n",
       "0    NaN     NaN         NaN    NaN    NaN    NaN    NaN    NaN    NaN    NaN   \n",
       "1    NaN     NaN         NaN    NaN    NaN    NaN    NaN    NaN    NaN    NaN   \n",
       "2    NaN     NaN         NaN    NaN    NaN    NaN    NaN    NaN    NaN    NaN   \n",
       "3    NaN     NaN         NaN    NaN    NaN    NaN    NaN    NaN    NaN    NaN   \n",
       "4    NaN     NaN         NaN    NaN    NaN    NaN    NaN    NaN    NaN    NaN   \n",
       "\n",
       "   p29_77  p30  p31  p32  p33 p33_cual  p34 p34_cual  p35  p35_cual  p36  p37  \\\n",
       "0     NaN  NaN  NaN  NaN  NaN      NaN  NaN      NaN  NaN       NaN  NaN  NaN   \n",
       "1     NaN  NaN  NaN  NaN  NaN      NaN  NaN      NaN  NaN       NaN  NaN  NaN   \n",
       "2     NaN  NaN  NaN  NaN  NaN      NaN  NaN      NaN  NaN       NaN  NaN  NaN   \n",
       "3     NaN  NaN  NaN  NaN  NaN      NaN  NaN      NaN  NaN       NaN  NaN  NaN   \n",
       "4     NaN  NaN  NaN  NaN  NaN      NaN  NaN      NaN  NaN       NaN  NaN  NaN   \n",
       "\n",
       "   p38  p39  p40_1  p40_2  p40_3  p40_4  p40_5  p40_6  p40_7  p40_77  \\\n",
       "0  NaN  NaN    NaN    NaN    NaN    NaN    NaN    NaN    NaN     NaN   \n",
       "1  NaN  NaN    NaN    NaN    NaN    NaN    NaN    NaN    NaN     NaN   \n",
       "2  NaN  NaN    NaN    NaN    NaN    NaN    NaN    NaN    NaN     NaN   \n",
       "3  NaN  NaN    NaN    NaN    NaN    NaN    NaN    NaN    NaN     NaN   \n",
       "4  NaN  NaN    NaN    NaN    NaN    NaN    NaN    NaN    NaN     NaN   \n",
       "\n",
       "  p40_77_cual  p41  p42  p43  p44  \n",
       "0         NaN  NaN  NaN  NaN  NaN  \n",
       "1         NaN  NaN  NaN  NaN  NaN  \n",
       "2         NaN  NaN  NaN  NaN  NaN  \n",
       "3         NaN  NaN  NaN  NaN  NaN  \n",
       "4         NaN  NaN  NaN  NaN  NaN  "
      ]
     },
     "execution_count": 1695,
     "metadata": {},
     "output_type": "execute_result"
    }
   ],
   "source": [
    "base_sistema.head()"
   ]
  },
  {
   "cell_type": "code",
   "execution_count": 1696,
   "metadata": {},
   "outputs": [
    {
     "data": {
      "text/plain": [
       "Index(['DANE_ANTERIOR', 'TIPO_JORNADA', 'NTIPO_JORNADA', 'GRADO', 'NUGRADO',\n",
       "       'GRUPO', 'tel_sede', 'comp_sed', 'nom_doc', 'ema_doc', 'tel_doc',\n",
       "       'cel_doc', 'res_dig', 'res_med', 'PER_ID', 'NRO_DOCUMENTO',\n",
       "       'FECHA_NACIMIENTO', 'codigo_estudiante', 'APELLIDO1', 'APELLIDO2',\n",
       "       'NOMBRE1', 'NOMBRE2', 'GENERO', 'ESTRATO', 'peso1', 'peso2', 'peso3',\n",
       "       'talla1', 'talla2', 'talla3', 'cintura1', 'cintura2', 'cintura3',\n",
       "       'ETNIA', 'POB_VICT_CONF', 'TIPO_DISCAPACIDAD', 'fecha_me', 'gestante',\n",
       "       'semanas', 'meses', 'fecha_realizacion', 'reportado', 'estado',\n",
       "       'observacion', 'fecha_up', 'usuario', 'p4_1', 'p4_2', 'p4_3', 'p4_4',\n",
       "       'p4_5', 'p4_6', 'p4_7', 'p5', 'p5_cual', 'p6_1', 'p6_2', 'p6_3', 'p6_4',\n",
       "       'p7', 'p8', 'p9_1', 'p9_2', 'p9_3', 'p9_4', 'p9_77', 'p9_99',\n",
       "       'p9_77_cual', 'p10', 'p11', 'p12_1', 'p12_2', 'p12_3', 'p13_1', 'p13_2',\n",
       "       'p13_3', 'p14', 'p15', 'p16', 'p17', 'p18', 'p19', 'p20', 'p21',\n",
       "       'p22_1', 'p22_2', 'p22_3', 'p22_4', 'p22_5', 'p22_6', 'p22_7', 'p22_8',\n",
       "       'p22_9', 'p22_10', 'p22_11', 'p22_12', 'p22_13', 'p23_1', 'p23_2',\n",
       "       'p23_3', 'p23_4', 'p23_5', 'p23_6', 'p23_7', 'p23_77', 'p23_99',\n",
       "       'p23_77_cual', 'p24_1', 'p24_2', 'p24_3', 'p24_4', 'p24_5', 'p24_6',\n",
       "       'p25', 'p25_cual', 'p26_1', 'p26_2', 'p26_3', 'p26_4', 'p26_5', 'p26_6',\n",
       "       'p26_7', 'p27', 'p28_1', 'p28_2', 'p28_3', 'p28_4', 'p28_5', 'p28_6',\n",
       "       'p28_7', 'p28_77', 'p28_77_cual', 'p29_1', 'p29_2', 'p29_3', 'p29_4',\n",
       "       'p29_5', 'p29_6', 'p29_7', 'p29_77', 'p30', 'p31', 'p32', 'p33',\n",
       "       'p33_cual', 'p34', 'p34_cual', 'p35', 'p35_cual', 'p36', 'p37', 'p38',\n",
       "       'p39', 'p40_1', 'p40_2', 'p40_3', 'p40_4', 'p40_5', 'p40_6', 'p40_7',\n",
       "       'p40_77', 'p40_77_cual', 'p41', 'p42', 'p43', 'p44'],\n",
       "      dtype='object')"
      ]
     },
     "execution_count": 1696,
     "metadata": {},
     "output_type": "execute_result"
    }
   ],
   "source": [
    "pd.set_option('display.max_columns', 500)\n",
    "pd.set_option('display.max_seq_items', 500)\n",
    "base_sistema.columns"
   ]
  },
  {
   "cell_type": "code",
   "execution_count": 1703,
   "metadata": {},
   "outputs": [
    {
     "data": {
      "text/plain": [
       "137346"
      ]
     },
     "execution_count": 1703,
     "metadata": {},
     "output_type": "execute_result"
    }
   ],
   "source": [
    "len(base_sistema)"
   ]
  },
  {
   "cell_type": "code",
   "execution_count": 1698,
   "metadata": {},
   "outputs": [],
   "source": [
    "#base_sistema[\"PER_ID\"] = base_sistema[\"PER_ID\"].str.replace('.', '')"
   ]
  },
  {
   "cell_type": "code",
   "execution_count": 1699,
   "metadata": {},
   "outputs": [],
   "source": [
    "base_sistema.sort_values(['PER_ID','reportado', 'fecha_realizacion'], inplace = True, ascending = True, na_position='first')"
   ]
  },
  {
   "cell_type": "code",
   "execution_count": 1702,
   "metadata": {},
   "outputs": [],
   "source": [
    "base_sistema.drop_duplicates(subset =\"PER_ID\", \n",
    "                     keep = 'last', inplace = True) "
   ]
  },
  {
   "cell_type": "code",
   "execution_count": 1701,
   "metadata": {},
   "outputs": [
    {
     "data": {
      "text/html": [
       "<div>\n",
       "<style scoped>\n",
       "    .dataframe tbody tr th:only-of-type {\n",
       "        vertical-align: middle;\n",
       "    }\n",
       "\n",
       "    .dataframe tbody tr th {\n",
       "        vertical-align: top;\n",
       "    }\n",
       "\n",
       "    .dataframe thead th {\n",
       "        text-align: right;\n",
       "    }\n",
       "</style>\n",
       "<table border=\"1\" class=\"dataframe\">\n",
       "  <thead>\n",
       "    <tr style=\"text-align: right;\">\n",
       "      <th></th>\n",
       "      <th>PER_ID</th>\n",
       "      <th>reportado</th>\n",
       "      <th>fecha_realizacion</th>\n",
       "    </tr>\n",
       "  </thead>\n",
       "  <tbody>\n",
       "    <tr>\n",
       "      <th>1493</th>\n",
       "      <td>54321</td>\n",
       "      <td>3</td>\n",
       "      <td>27/08/2019 13:55</td>\n",
       "    </tr>\n",
       "    <tr>\n",
       "      <th>60211</th>\n",
       "      <td>54322</td>\n",
       "      <td>3</td>\n",
       "      <td>27/08/2019 14:09</td>\n",
       "    </tr>\n",
       "    <tr>\n",
       "      <th>77262</th>\n",
       "      <td>54323</td>\n",
       "      <td>3</td>\n",
       "      <td>26/08/2019 8:42</td>\n",
       "    </tr>\n",
       "    <tr>\n",
       "      <th>78850</th>\n",
       "      <td>54324</td>\n",
       "      <td>3</td>\n",
       "      <td>26/08/2019 13:35</td>\n",
       "    </tr>\n",
       "    <tr>\n",
       "      <th>88282</th>\n",
       "      <td>54325</td>\n",
       "      <td>3</td>\n",
       "      <td>26/08/2019 16:20</td>\n",
       "    </tr>\n",
       "  </tbody>\n",
       "</table>\n",
       "</div>"
      ],
      "text/plain": [
       "       PER_ID  reportado fecha_realizacion\n",
       "1493    54321          3  27/08/2019 13:55\n",
       "60211   54322          3  27/08/2019 14:09\n",
       "77262   54323          3   26/08/2019 8:42\n",
       "78850   54324          3  26/08/2019 13:35\n",
       "88282   54325          3  26/08/2019 16:20"
      ]
     },
     "execution_count": 1701,
     "metadata": {},
     "output_type": "execute_result"
    }
   ],
   "source": [
    "base_sistema[['PER_ID','reportado', 'fecha_realizacion']].head()"
   ]
  },
  {
   "cell_type": "code",
   "execution_count": 1704,
   "metadata": {},
   "outputs": [],
   "source": [
    "base_sistema= base_sistema.drop(columns=['cintura1', 'cintura2', 'cintura3'])"
   ]
  },
  {
   "cell_type": "code",
   "execution_count": 1705,
   "metadata": {},
   "outputs": [],
   "source": [
    "#base_sistema.to_excel(\"Base_ordenada.xlsx\")"
   ]
  },
  {
   "cell_type": "code",
   "execution_count": 1706,
   "metadata": {},
   "outputs": [],
   "source": [
    "columns= ['peso1', 'peso2', 'peso3','talla1', 'talla2', 'talla3']"
   ]
  },
  {
   "cell_type": "code",
   "execution_count": 1707,
   "metadata": {},
   "outputs": [
    {
     "data": {
      "text/plain": [
       "137346"
      ]
     },
     "execution_count": 1707,
     "metadata": {},
     "output_type": "execute_result"
    }
   ],
   "source": [
    "len(base_sistema)"
   ]
  },
  {
   "cell_type": "code",
   "execution_count": 1708,
   "metadata": {},
   "outputs": [],
   "source": [
    "for i in columns:\n",
    "    base_sistema[i] = base_sistema[i].astype(str).str.replace('.', '')"
   ]
  },
  {
   "cell_type": "code",
   "execution_count": 1709,
   "metadata": {},
   "outputs": [],
   "source": [
    "columns1= ['peso1', 'peso2', 'peso3']\n",
    "for i in columns1:\n",
    "    base_sistema[i].astype(np.float32)"
   ]
  },
  {
   "cell_type": "code",
   "execution_count": 1710,
   "metadata": {},
   "outputs": [],
   "source": [
    "#for i in base_sistema.index:\n",
    "#    talla = base_sistema.loc[i, 'talla1']\n",
    "#    if talla == np.nan:\n",
    "#        continue\n",
    "#    else:\n",
    "#        a = talla[0:3] + ',' + talla[3:]\n",
    "#        b = talla[0:2] + ',' + talla[2:]\n",
    "#        if talla[0][0] != 1 or talla[0][0] != 2:\n",
    "#            base_sistema.loc[i, 'talla1'] = b\n",
    "#        else:\n",
    "#            base_sistema.loc[i, 'talla1'] = a"
   ]
  },
  {
   "cell_type": "code",
   "execution_count": 1711,
   "metadata": {},
   "outputs": [],
   "source": [
    "def convert_weight(x):\n",
    "    if x is not np.nan:\n",
    "        x = int(x)\n",
    "        a = x/(10000)\n",
    "        return a\n",
    "    return x\n",
    "base_sistema['peso1'] = base_sistema['peso1'].map(convert_weight)\n",
    "base_sistema['peso2'] = base_sistema['peso2'].map(convert_weight)\n",
    "base_sistema['peso3'] = base_sistema['peso3'].map(convert_weight)\n"
   ]
  },
  {
   "cell_type": "code",
   "execution_count": 1714,
   "metadata": {},
   "outputs": [
    {
     "data": {
      "text/plain": [
       "90227    200.0\n",
       "Name: talla1, dtype: float64"
      ]
     },
     "execution_count": 1714,
     "metadata": {},
     "output_type": "execute_result"
    }
   ],
   "source": [
    "base_sistema[base_sistema['PER_ID']==72878844]['talla1']"
   ]
  },
  {
   "cell_type": "code",
   "execution_count": 1713,
   "metadata": {},
   "outputs": [],
   "source": [
    "def convert_talla(x):\n",
    "    if x is not np.nan:\n",
    "        a = float(x[0:2] + '.' + x[2:5].strip())\n",
    "        b = float(x[0:3] + '.' + x[3:5].strip())\n",
    "        if int(x[0]) > 2 :\n",
    "            return a\n",
    "        else:\n",
    "            return b\n",
    "    return x\n",
    "\n",
    "base_sistema['talla1'] = base_sistema['talla1'].map(convert_talla)\n",
    "base_sistema['talla2'] = base_sistema['talla2'].map(convert_talla)\n",
    "base_sistema['talla3'] = base_sistema['talla3'].map(convert_talla)"
   ]
  },
  {
   "cell_type": "code",
   "execution_count": 1717,
   "metadata": {},
   "outputs": [
    {
     "data": {
      "text/plain": [
       "3    120249\n",
       "1     12476\n",
       "2      4277\n",
       "4       344\n",
       "Name: reportado, dtype: int64"
      ]
     },
     "execution_count": 1717,
     "metadata": {},
     "output_type": "execute_result"
    }
   ],
   "source": [
    "base_sistema['reportado'].value_counts()"
   ]
  },
  {
   "cell_type": "code",
   "execution_count": 1716,
   "metadata": {},
   "outputs": [],
   "source": [
    "base_sistema['sum_talla_peso'] = base_sistema[['talla1', 'talla2', 'talla3','peso1', 'peso2', 'peso3']].sum(axis=1)\n",
    "\n",
    "base_sistema.loc[(base_sistema['sum_talla_peso'] ==0) & (base_sistema['reportado'] ==3) , 'reportado'] =1"
   ]
  },
  {
   "cell_type": "code",
   "execution_count": 1718,
   "metadata": {},
   "outputs": [
    {
     "data": {
      "text/plain": [
       "3    120249\n",
       "1     12476\n",
       "2      4277\n",
       "4       344\n",
       "Name: reportado, dtype: int64"
      ]
     },
     "execution_count": 1718,
     "metadata": {},
     "output_type": "execute_result"
    }
   ],
   "source": [
    "base_sistema['reportado'].value_counts()"
   ]
  },
  {
   "cell_type": "code",
   "execution_count": 1719,
   "metadata": {},
   "outputs": [
    {
     "data": {
      "text/plain": [
       "137346"
      ]
     },
     "execution_count": 1719,
     "metadata": {},
     "output_type": "execute_result"
    }
   ],
   "source": [
    "len(base_sistema)"
   ]
  },
  {
   "cell_type": "code",
   "execution_count": 1720,
   "metadata": {},
   "outputs": [],
   "source": [
    "def convert_fecha(x):\n",
    "    if x != '0000-00-00 00:00:00':\n",
    "        try:\n",
    "            date_time_obj = datetime.datetime.strptime(x, '%d/%m/%Y %H:%M')\n",
    "            return date_time_obj\n",
    "        except TypeError:\n",
    "            return x        \n",
    "    else:\n",
    "        return datetime.datetime(2019, 8, 29)  \n",
    "base_sistema['fecha_realizacion'] = base_sistema['fecha_realizacion'].map(convert_fecha)"
   ]
  },
  {
   "cell_type": "code",
   "execution_count": 1721,
   "metadata": {},
   "outputs": [
    {
     "data": {
      "text/plain": [
       "Timestamp('2019-09-13 12:42:00')"
      ]
     },
     "execution_count": 1721,
     "metadata": {},
     "output_type": "execute_result"
    }
   ],
   "source": [
    "base_sistema['fecha_realizacion'] [0]"
   ]
  },
  {
   "cell_type": "code",
   "execution_count": 1722,
   "metadata": {},
   "outputs": [],
   "source": [
    "x = datetime.datetime(2019, 7, 30)\n",
    "y = datetime.datetime(2019, 8, 29)\n",
    "base_sistema.loc[(base_sistema['fecha_realizacion'] < x) , 'fecha_realizacion'] =y"
   ]
  },
  {
   "cell_type": "code",
   "execution_count": 1723,
   "metadata": {},
   "outputs": [
    {
     "data": {
      "text/plain": [
       "'19/12/2003'"
      ]
     },
     "execution_count": 1723,
     "metadata": {},
     "output_type": "execute_result"
    }
   ],
   "source": [
    "base_sistema['FECHA_NACIMIENTO' ] [89678]"
   ]
  },
  {
   "cell_type": "code",
   "execution_count": 1724,
   "metadata": {},
   "outputs": [],
   "source": [
    "def convert_fecha_naci(x):\n",
    "    if x is not np.nan:\n",
    "        try:\n",
    "            date_time_obj = datetime.datetime.strptime(x, '%d/%m/%Y')\n",
    "            return date_time_obj\n",
    "        except TypeError:\n",
    "            return x\n",
    "    else:\n",
    "        return x\n",
    "base_sistema['FECHA_NACIMIENTO'] = base_sistema['FECHA_NACIMIENTO'].map(convert_fecha_naci)"
   ]
  },
  {
   "cell_type": "code",
   "execution_count": 1725,
   "metadata": {},
   "outputs": [],
   "source": [
    "z = datetime.datetime(1986, 1, 1)\n",
    "y = datetime.datetime(2017, 1, 1)\n",
    "def replace_fecha(row):\n",
    "    h = row.loc['PER_ID']\n",
    "    x = row.loc['FECHA_NACIMIENTO']\n",
    "    if x < z:\n",
    "        try:\n",
    "            a = base_muestra[base_muestra[\"PER_ID\"].isin([h])]['FECHANACIMIENTO'].iloc[0]\n",
    "            return a\n",
    "        except IndexError:\n",
    "                return x   \n",
    "    elif x > y:\n",
    "        try:\n",
    "            a = base_muestra[base_muestra[\"PER_ID\"].isin([h])]['FECHANACIMIENTO'].iloc[0]\n",
    "            return a\n",
    "        except IndexError:\n",
    "                return x\n",
    "    else:\n",
    "        return x\n",
    "base_sistema['FECHA_NACIMIENTO'] = base_sistema.apply(replace_fecha, axis=1)"
   ]
  },
  {
   "cell_type": "code",
   "execution_count": 1726,
   "metadata": {},
   "outputs": [
    {
     "data": {
      "text/plain": [
       "40069   2002-01-24\n",
       "Name: FECHA_NACIMIENTO, dtype: datetime64[ns]"
      ]
     },
     "execution_count": 1726,
     "metadata": {},
     "output_type": "execute_result"
    }
   ],
   "source": [
    "base_sistema[base_sistema[\"PER_ID\"].isin([62499671])]['FECHA_NACIMIENTO']"
   ]
  },
  {
   "cell_type": "code",
   "execution_count": 1727,
   "metadata": {},
   "outputs": [
    {
     "data": {
      "text/plain": [
       "numpy.int64"
      ]
     },
     "execution_count": 1727,
     "metadata": {},
     "output_type": "execute_result"
    }
   ],
   "source": [
    "type(base_muestra[\"PER_ID\"][0])"
   ]
  },
  {
   "cell_type": "code",
   "execution_count": 1735,
   "metadata": {},
   "outputs": [
    {
     "data": {
      "text/plain": [
       "0"
      ]
     },
     "execution_count": 1735,
     "metadata": {},
     "output_type": "execute_result"
    }
   ],
   "source": [
    "base_muestra[\"PER_ID\"].isna().sum()"
   ]
  },
  {
   "cell_type": "code",
   "execution_count": 1736,
   "metadata": {},
   "outputs": [],
   "source": [
    "base_muestraf = base_muestra[[ 'CONSECUTIVOSEDE', 'DANE12', 'NOMBRESEDEEDUCATIVA',  'NOMBREESTABLECIMIENTOEDUCATIVO', 'TIPODOCUMENTO', 'TIPODOCUMENTODESCRIPCION', 'NUMERODOCUMENTO', 'APELLIDO1',\n",
    "       'PER_ID', 'GRADO', 'GRUPO', 'FECHANACIMIENTO' ]]"
   ]
  },
  {
   "cell_type": "code",
   "execution_count": 1737,
   "metadata": {},
   "outputs": [],
   "source": [
    "base_unida = base_sistema.merge(base_muestraf, left_on=\"PER_ID\", right_on= 'PER_ID', how= 'outer')"
   ]
  },
  {
   "cell_type": "code",
   "execution_count": 1738,
   "metadata": {},
   "outputs": [
    {
     "data": {
      "text/plain": [
       "151248"
      ]
     },
     "execution_count": 1738,
     "metadata": {},
     "output_type": "execute_result"
    }
   ],
   "source": [
    "len(base_unida)"
   ]
  },
  {
   "cell_type": "code",
   "execution_count": 1739,
   "metadata": {},
   "outputs": [],
   "source": [
    "base_unida.drop_duplicates(subset =\"PER_ID\", \n",
    "                     keep = 'last', inplace = True) "
   ]
  },
  {
   "cell_type": "code",
   "execution_count": 1740,
   "metadata": {},
   "outputs": [
    {
     "data": {
      "text/plain": [
       "150932"
      ]
     },
     "execution_count": 1740,
     "metadata": {},
     "output_type": "execute_result"
    }
   ],
   "source": [
    "len(base_unida)"
   ]
  },
  {
   "cell_type": "code",
   "execution_count": 1623,
   "metadata": {},
   "outputs": [],
   "source": [
    "#for i in base_unida.index: \n",
    " #   id_per = base_unida.loc[i, 'PER_ID']\n",
    "    # pdb.set_trace()\n",
    "  #  if any(base_sexo[\"PER_ID\"].isin([id_per])):\n",
    "        #pdb.set_trace()\n",
    "   #     sexo = base_sexo[base_sexo[\"PER_ID\"].isin([id_per])]['GENERO'].iloc[0]\n",
    "    #    base_unida.loc[(base_unida[\"PER_ID\"]==id_per), 'GENERO'] = sexo"
   ]
  },
  {
   "cell_type": "code",
   "execution_count": 1624,
   "metadata": {},
   "outputs": [],
   "source": [
    "#for i in base_unida.index:\n",
    " #   a = base_unida[base_unida[\"PER_ID\"].isin([h])]['FECHANACIMIENTO'].iloc[0]"
   ]
  },
  {
   "cell_type": "code",
   "execution_count": 1741,
   "metadata": {},
   "outputs": [
    {
     "data": {
      "text/plain": [
       "0          NaT\n",
       "1   2019-08-27\n",
       "2          NaT\n",
       "3   2008-07-17\n",
       "4   2013-02-05\n",
       "Name: FECHA_NACIMIENTO, dtype: datetime64[ns]"
      ]
     },
     "execution_count": 1741,
     "metadata": {},
     "output_type": "execute_result"
    }
   ],
   "source": [
    "base_unida[\"FECHA_NACIMIENTO\"].head()"
   ]
  },
  {
   "cell_type": "code",
   "execution_count": 1742,
   "metadata": {},
   "outputs": [],
   "source": [
    "base_sexo = pd.read_excel('Sexo correcto.xlsx', sheet_name='24')"
   ]
  },
  {
   "cell_type": "code",
   "execution_count": 1743,
   "metadata": {},
   "outputs": [
    {
     "data": {
      "text/plain": [
       "dtype('int64')"
      ]
     },
     "execution_count": 1743,
     "metadata": {},
     "output_type": "execute_result"
    }
   ],
   "source": [
    "base_sexo.PER_ID = base_sexo.PER_ID.astype('float64')\n",
    "base_unida.PER_ID.dtype"
   ]
  },
  {
   "cell_type": "code",
   "execution_count": 1744,
   "metadata": {},
   "outputs": [],
   "source": [
    "#def replace_sexo(row):\n",
    "#    h = row.loc['PER_ID']\n",
    "#    x = row.loc['GENERO']\n",
    "#    if any(base_sexo[\"PER_ID\"].isin([h])):\n",
    "#        try:\n",
    "#            sexo = base_sexo[base_sexo[\"PER_ID\"].isin([h])]['GENERO'].iloc[0]\n",
    "#            return sexo\n",
    "#        except IndexError:\n",
    "#                return x   \n",
    "#    else:\n",
    "#        return x\n",
    "#base_unida['GENERO'] = base_unida.apply(replace_sexo, axis=1)\n",
    "    "
   ]
  },
  {
   "cell_type": "code",
   "execution_count": 1745,
   "metadata": {},
   "outputs": [
    {
     "data": {
      "text/plain": [
       "'F'"
      ]
     },
     "execution_count": 1745,
     "metadata": {},
     "output_type": "execute_result"
    }
   ],
   "source": [
    "base_unida[base_unida['PER_ID']==61691038]['GENERO'].iloc[0]"
   ]
  },
  {
   "cell_type": "code",
   "execution_count": 1746,
   "metadata": {},
   "outputs": [
    {
     "data": {
      "text/plain": [
       "3.0    120249\n",
       "1.0     12476\n",
       "2.0      4277\n",
       "4.0       344\n",
       "Name: reportado, dtype: int64"
      ]
     },
     "execution_count": 1746,
     "metadata": {},
     "output_type": "execute_result"
    }
   ],
   "source": [
    "base_unida.reportado.value_counts()"
   ]
  },
  {
   "cell_type": "code",
   "execution_count": 1747,
   "metadata": {},
   "outputs": [],
   "source": [
    "base_unida['Promedio peso'] = base_unida[['peso1', 'peso2', 'peso3']].mean(axis=1)\n",
    "base_unida['Promedio talla'] = base_unida[['talla1', 'talla2', 'talla3']].mean(axis=1)"
   ]
  },
  {
   "cell_type": "code",
   "execution_count": 1748,
   "metadata": {},
   "outputs": [],
   "source": [
    "#base_sistema.to_excel('Base Sistema.xlsx')"
   ]
  },
  {
   "cell_type": "code",
   "execution_count": 1749,
   "metadata": {},
   "outputs": [],
   "source": [
    "base_unida['FECHANACIMIENTO_MUESTRA']= base_unida['FECHANACIMIENTO']"
   ]
  },
  {
   "cell_type": "code",
   "execution_count": 1750,
   "metadata": {},
   "outputs": [],
   "source": [
    "base_unida = base_unida[[ 'PER_ID', 'DANE12', 'TIPO_JORNADA', 'NTIPO_JORNADA', 'NUGRADO',\n",
    "       'GRUPO_x', 'tel_sede', 'comp_sed', 'nom_doc', 'ema_doc', 'tel_doc',\n",
    "       'cel_doc', 'res_dig', 'res_med', 'NRO_DOCUMENTO',\n",
    "       'FECHA_NACIMIENTO', 'FECHANACIMIENTO_MUESTRA', 'codigo_estudiante', 'APELLIDO1_x', 'APELLIDO2',\n",
    "       'NOMBRE1', 'NOMBRE2', 'GENERO', 'ESTRATO', 'peso1', 'peso2', 'peso3', 'Promedio peso',\n",
    "       'talla1', 'talla2', 'talla3', 'Promedio talla', 'ETNIA', 'POB_VICT_CONF',\n",
    "       'TIPO_DISCAPACIDAD', 'fecha_me', 'gestante', 'semanas', 'meses',\n",
    "       'fecha_realizacion', 'reportado', 'estado', 'observacion', 'fecha_up',\n",
    "       'usuario','sum_talla_peso', 'CONSECUTIVOSEDE', 'NOMBRESEDEEDUCATIVA', 'NOMBREESTABLECIMIENTOEDUCATIVO', \n",
    "       'TIPODOCUMENTO', 'TIPODOCUMENTODESCRIPCION', 'NUMERODOCUMENTO',\n",
    "       'APELLIDO1_y', 'GRADO_y', 'GRUPO_y', 'p4_1', 'p4_2', 'p4_3', 'p4_4', 'p4_5', 'p4_6', 'p4_7', 'p5',\n",
    "       'p5_cual', 'p6_1', 'p6_2', 'p6_3', 'p6_4', 'p7', 'p8', 'p9_1', 'p9_2',\n",
    "       'p9_3', 'p9_4', 'p9_77', 'p9_99', 'p9_77_cual', 'p10', 'p11', 'p12_1',\n",
    "       'p12_2', 'p12_3', 'p13_1', 'p13_2', 'p13_3', 'p14', 'p15', 'p16', 'p17',\n",
    "       'p18', 'p19', 'p20', 'p21', 'p22_1', 'p22_2', 'p22_3', 'p22_4', 'p22_5',\n",
    "       'p22_6', 'p22_7', 'p22_8', 'p22_9', 'p22_10', 'p22_11', 'p22_12',\n",
    "       'p22_13', 'p23_1', 'p23_2', 'p23_3', 'p23_4', 'p23_5', 'p23_6', 'p23_7',\n",
    "       'p23_77', 'p23_99', 'p23_77_cual', 'p24_1', 'p24_2', 'p24_3', 'p24_4',\n",
    "       'p24_5', 'p24_6', 'p25', 'p25_cual', 'p26_1', 'p26_2', 'p26_3', 'p26_4',\n",
    "       'p26_5', 'p26_6', 'p26_7', 'p27', 'p28_1', 'p28_2', 'p28_3', 'p28_4',\n",
    "       'p28_5', 'p28_6', 'p28_7', 'p28_77', 'p28_77_cual', 'p29_1', 'p29_2',\n",
    "       'p29_3', 'p29_4', 'p29_5', 'p29_6', 'p29_7', 'p29_77', 'p30', 'p31',\n",
    "       'p32', 'p33', 'p33_cual', 'p34', 'p34_cual', 'p35', 'p35_cual', 'p36',\n",
    "       'p37', 'p38', 'p39', 'p40_1', 'p40_2', 'p40_3', 'p40_4', 'p40_5',\n",
    "       'p40_6', 'p40_7', 'p40_77', 'p40_77_cual', 'p41', 'p42', 'p43', 'p44',]]"
   ]
  },
  {
   "cell_type": "code",
   "execution_count": 1751,
   "metadata": {},
   "outputs": [
    {
     "data": {
      "text/plain": [
       "3.0    120249\n",
       "1.0     12476\n",
       "2.0      4277\n",
       "4.0       344\n",
       "Name: reportado, dtype: int64"
      ]
     },
     "execution_count": 1751,
     "metadata": {},
     "output_type": "execute_result"
    }
   ],
   "source": [
    "base_unida['reportado'].value_counts()"
   ]
  },
  {
   "cell_type": "code",
   "execution_count": 1752,
   "metadata": {},
   "outputs": [],
   "source": [
    "base_unida['reportado']= base_unida['reportado'].fillna(0)"
   ]
  },
  {
   "cell_type": "code",
   "execution_count": 1753,
   "metadata": {},
   "outputs": [
    {
     "data": {
      "text/plain": [
       "150932"
      ]
     },
     "execution_count": 1753,
     "metadata": {},
     "output_type": "execute_result"
    }
   ],
   "source": [
    "len(base_unida)"
   ]
  },
  {
   "cell_type": "code",
   "execution_count": 1754,
   "metadata": {},
   "outputs": [],
   "source": [
    "#reportado = pd.get_dummies(base_unida['reportado'])\n",
    "#base_colegios = pd.concat([base_unida, reportado], axis=1)\n"
   ]
  },
  {
   "cell_type": "code",
   "execution_count": 1755,
   "metadata": {},
   "outputs": [],
   "source": [
    "#def tomar_solo_fechas(x):\n",
    "#    if x is not np.nan:\n",
    "#        a = x.date()\n",
    "#        return a\n",
    "#    else:\n",
    "#        x\n",
    "\n",
    "#base_colegios['fecha_realizacion_2'] = base_colegios['fecha_realizacion'].map(tomar_solo_fechas)"
   ]
  },
  {
   "cell_type": "code",
   "execution_count": 1756,
   "metadata": {},
   "outputs": [],
   "source": [
    "#type(base_colegios[\"fecha_realizacion_2\"][0])"
   ]
  },
  {
   "cell_type": "code",
   "execution_count": 1757,
   "metadata": {},
   "outputs": [],
   "source": [
    "#base_colegios[[\"fecha_realizacion_2\", 'fecha_realizacion'] ]"
   ]
  },
  {
   "cell_type": "code",
   "execution_count": 1758,
   "metadata": {},
   "outputs": [],
   "source": [
    "#base_colegios =base_colegios.set_index(['CONSECUTIVOSEDE', \"fecha_realizacion_2\"])\n",
    "#base_colegios\n",
    "#base_colegios.index = pd.to_datetime(base_colegios.index)"
   ]
  },
  {
   "cell_type": "code",
   "execution_count": 1759,
   "metadata": {},
   "outputs": [],
   "source": [
    "#base_colegios.head()"
   ]
  },
  {
   "cell_type": "code",
   "execution_count": 1760,
   "metadata": {},
   "outputs": [],
   "source": [
    "#def fechas_a_string(x):\n",
    "#    if x is not pd.NaT:\n",
    "#        a = x.strftime('%Y/%m/%d')\n",
    "#        return a\n",
    "#    else:\n",
    "#        x\n",
    "\n",
    "#base_colegios['fecha_realizacion_2'] = base_colegios['fecha_realizacion_2'].map(fechas_a_string)"
   ]
  },
  {
   "cell_type": "code",
   "execution_count": 1761,
   "metadata": {},
   "outputs": [],
   "source": [
    "#base_colegios['fecha_realizacion_2'] = base_colegios['fecha_realizacion_2'].str.replace(\" \", \"\")"
   ]
  },
  {
   "cell_type": "code",
   "execution_count": 1762,
   "metadata": {},
   "outputs": [],
   "source": [
    "#base_colegios= base_colegios.groupby([\"CONSECUTIVOSEDE\", pd.Grouper(key='fecha_realizacion_2')])[[0.0, 1.0 , 2.0, 3.0, 4.0 ]].sum()"
   ]
  },
  {
   "cell_type": "code",
   "execution_count": 1763,
   "metadata": {},
   "outputs": [],
   "source": [
    "#base_colegios= base_colegios.pivot_table(index=['CONSECUTIVOSEDE', \"fecha_realizacion_2\"],columns='reportado',aggfunc=sum)"
   ]
  },
  {
   "cell_type": "code",
   "execution_count": 1764,
   "metadata": {},
   "outputs": [],
   "source": [
    "#base_colegios = base_colegios[['PER_ID', 'CONSECUTIVOSEDE', 'NOMBRESEDEEDUCATIVA', 0.0, 1.0,  2.0,\n",
    " #                                   3.0, 4.0, 'fecha_realizacion', 'fecha_realizacion_2' ]]"
   ]
  },
  {
   "cell_type": "code",
   "execution_count": 1765,
   "metadata": {},
   "outputs": [],
   "source": [
    "#base_jardin = pd.read_excel(\"Base Niños y Niñas IED faltan por Tomas.xlsx\")"
   ]
  },
  {
   "cell_type": "code",
   "execution_count": 1766,
   "metadata": {},
   "outputs": [],
   "source": [
    "#base_jardin = base_jardin[['No. ID', 'Estan']]"
   ]
  },
  {
   "cell_type": "code",
   "execution_count": 1767,
   "metadata": {},
   "outputs": [
    {
     "data": {
      "text/plain": [
       "138473"
      ]
     },
     "execution_count": 1767,
     "metadata": {},
     "output_type": "execute_result"
    }
   ],
   "source": [
    "#len(base_colegios)"
   ]
  },
  {
   "cell_type": "code",
   "execution_count": 1768,
   "metadata": {},
   "outputs": [
    {
     "data": {
      "text/plain": [
       "725"
      ]
     },
     "execution_count": 1768,
     "metadata": {},
     "output_type": "execute_result"
    }
   ],
   "source": [
    "#len(base_jardin)"
   ]
  },
  {
   "cell_type": "code",
   "execution_count": 1769,
   "metadata": {},
   "outputs": [],
   "source": [
    "#base_jardin['Niños de jardín'] = base_jardin['Estan']"
   ]
  },
  {
   "cell_type": "code",
   "execution_count": 1770,
   "metadata": {},
   "outputs": [
    {
     "data": {
      "text/plain": [
       "numpy.int64"
      ]
     },
     "execution_count": 1770,
     "metadata": {},
     "output_type": "execute_result"
    }
   ],
   "source": [
    "#type(base_jardin['No. ID'][0])"
   ]
  },
  {
   "cell_type": "code",
   "execution_count": 1771,
   "metadata": {},
   "outputs": [
    {
     "data": {
      "text/plain": [
       "float"
      ]
     },
     "execution_count": 1771,
     "metadata": {},
     "output_type": "execute_result"
    }
   ],
   "source": [
    "#type(base_unida['NRO_DOCUMENTO'][0])"
   ]
  },
  {
   "cell_type": "code",
   "execution_count": 1772,
   "metadata": {},
   "outputs": [
    {
     "data": {
      "text/plain": [
       "Index(['PER_ID', 'DANE12', 'TIPO_JORNADA', 'NTIPO_JORNADA', 'NUGRADO',\n",
       "       'GRUPO_x', 'tel_sede', 'comp_sed', 'nom_doc', 'ema_doc', 'tel_doc',\n",
       "       'cel_doc', 'res_dig', 'res_med', 'NRO_DOCUMENTO', 'FECHA_NACIMIENTO',\n",
       "       'FECHANACIMIENTO_MUESTRA', 'codigo_estudiante', 'APELLIDO1_x',\n",
       "       'APELLIDO2', 'NOMBRE1', 'NOMBRE2', 'GENERO', 'ESTRATO', 'peso1',\n",
       "       'peso2', 'peso3', 'Promedio peso', 'talla1', 'talla2', 'talla3',\n",
       "       'Promedio talla', 'ETNIA', 'POB_VICT_CONF', 'TIPO_DISCAPACIDAD',\n",
       "       'fecha_me', 'gestante', 'semanas', 'meses', 'fecha_realizacion',\n",
       "       'reportado', 'estado', 'observacion', 'fecha_up', 'usuario',\n",
       "       'sum_talla_peso', 'CONSECUTIVOSEDE', 'NOMBRESEDEEDUCATIVA',\n",
       "       'NOMBREESTABLECIMIENTOEDUCATIVO', 'TIPODOCUMENTO',\n",
       "       'TIPODOCUMENTODESCRIPCION', 'NUMERODOCUMENTO', 'APELLIDO1_y', 'GRADO_y',\n",
       "       'GRUPO_y', 'p4_1', 'p4_2', 'p4_3', 'p4_4', 'p4_5', 'p4_6', 'p4_7', 'p5',\n",
       "       'p5_cual', 'p6_1', 'p6_2', 'p6_3', 'p6_4', 'p7', 'p8', 'p9_1', 'p9_2',\n",
       "       'p9_3', 'p9_4', 'p9_77', 'p9_99', 'p9_77_cual', 'p10', 'p11', 'p12_1',\n",
       "       'p12_2', 'p12_3', 'p13_1', 'p13_2', 'p13_3', 'p14', 'p15', 'p16', 'p17',\n",
       "       'p18', 'p19', 'p20', 'p21', 'p22_1', 'p22_2', 'p22_3', 'p22_4', 'p22_5',\n",
       "       'p22_6', 'p22_7', 'p22_8', 'p22_9', 'p22_10', 'p22_11', 'p22_12',\n",
       "       'p22_13', 'p23_1', 'p23_2', 'p23_3', 'p23_4', 'p23_5', 'p23_6', 'p23_7',\n",
       "       'p23_77', 'p23_99', 'p23_77_cual', 'p24_1', 'p24_2', 'p24_3', 'p24_4',\n",
       "       'p24_5', 'p24_6', 'p25', 'p25_cual', 'p26_1', 'p26_2', 'p26_3', 'p26_4',\n",
       "       'p26_5', 'p26_6', 'p26_7', 'p27', 'p28_1', 'p28_2', 'p28_3', 'p28_4',\n",
       "       'p28_5', 'p28_6', 'p28_7', 'p28_77', 'p28_77_cual', 'p29_1', 'p29_2',\n",
       "       'p29_3', 'p29_4', 'p29_5', 'p29_6', 'p29_7', 'p29_77', 'p30', 'p31',\n",
       "       'p32', 'p33', 'p33_cual', 'p34', 'p34_cual', 'p35', 'p35_cual', 'p36',\n",
       "       'p37', 'p38', 'p39', 'p40_1', 'p40_2', 'p40_3', 'p40_4', 'p40_5',\n",
       "       'p40_6', 'p40_7', 'p40_77', 'p40_77_cual', 'p41', 'p42', 'p43', 'p44'],\n",
       "      dtype='object')"
      ]
     },
     "execution_count": 1772,
     "metadata": {},
     "output_type": "execute_result"
    }
   ],
   "source": [
    "base_unida.columns"
   ]
  },
  {
   "cell_type": "code",
   "execution_count": 1773,
   "metadata": {},
   "outputs": [],
   "source": [
    "#base_jardin[\"No. ID\"] = base_jardin[\"No. ID\"].astype('str')"
   ]
  },
  {
   "cell_type": "code",
   "execution_count": 1774,
   "metadata": {},
   "outputs": [],
   "source": [
    "#base_jardin[\"No. ID\"]= pd.to_numeric(base_jardin['No. ID'], errors = 'raise')"
   ]
  },
  {
   "cell_type": "code",
   "execution_count": 1775,
   "metadata": {},
   "outputs": [],
   "source": [
    "#base_unida = base_unida.merge(base_jardin, left_on=\"NUMERODOCUMENTO\", right_on= 'No. ID', how= 'outer' )"
   ]
  },
  {
   "cell_type": "code",
   "execution_count": 1776,
   "metadata": {},
   "outputs": [],
   "source": [
    "#base_unida['Niños de jardín']= base_unida['Niños de jardín'].fillna(0)"
   ]
  },
  {
   "cell_type": "code",
   "execution_count": 1777,
   "metadata": {},
   "outputs": [
    {
     "data": {
      "text/plain": [
       "0.0    150932\n",
       "1.0       725\n",
       "Name: Niños de jardín, dtype: int64"
      ]
     },
     "execution_count": 1777,
     "metadata": {},
     "output_type": "execute_result"
    }
   ],
   "source": [
    "#base_unida[\"Niños de jardín\"].value_counts()"
   ]
  },
  {
   "cell_type": "code",
   "execution_count": 1662,
   "metadata": {},
   "outputs": [
    {
     "data": {
      "text/plain": [
       "151657"
      ]
     },
     "execution_count": 1662,
     "metadata": {},
     "output_type": "execute_result"
    }
   ],
   "source": [
    "len(base_unida)"
   ]
  },
  {
   "cell_type": "code",
   "execution_count": 1663,
   "metadata": {},
   "outputs": [],
   "source": [
    "#base_colegios.to_excel('Tabla colegio 29-10-2019.xlsx')"
   ]
  },
  {
   "cell_type": "code",
   "execution_count": 1778,
   "metadata": {},
   "outputs": [],
   "source": [
    "base_unida.to_excel('Base Adaptada-29-10-2019.xlsx')"
   ]
  },
  {
   "cell_type": "code",
   "execution_count": 1779,
   "metadata": {},
   "outputs": [
    {
     "data": {
      "text/plain": [
       "138473"
      ]
     },
     "execution_count": 1779,
     "metadata": {},
     "output_type": "execute_result"
    }
   ],
   "source": [
    "len(base_colegios)"
   ]
  }
 ],
 "metadata": {
  "kernelspec": {
   "display_name": "Python 3",
   "language": "python",
   "name": "python3"
  },
  "language_info": {
   "codemirror_mode": {
    "name": "ipython",
    "version": 3
   },
   "file_extension": ".py",
   "mimetype": "text/x-python",
   "name": "python",
   "nbconvert_exporter": "python",
   "pygments_lexer": "ipython3",
   "version": "3.7.1"
  }
 },
 "nbformat": 4,
 "nbformat_minor": 2
}
